{
 "cells": [
  {
   "cell_type": "code",
   "execution_count": 1,
   "id": "3ac32800-13c8-4cba-8a48-4ce84af75fff",
   "metadata": {
    "tags": []
   },
   "outputs": [
    {
     "name": "stderr",
     "output_type": "stream",
     "text": [
      "/home/dunght/anaconda3/envs/tf2.2/lib/python3.7/site-packages/tqdm/auto.py:22: TqdmWarning: IProgress not found. Please update jupyter and ipywidgets. See https://ipywidgets.readthedocs.io/en/stable/user_install.html\n",
      "  from .autonotebook import tqdm as notebook_tqdm\n",
      "../../brevis/core_v2.py:25: UserWarning: Logging module Neptune was not found, Cloud Logging is not enabled, check https://docs.neptune.ai/getting-started/installation for more information on how to set this up\n",
      "  warnings.warn(\"Logging module Neptune was not found, Cloud Logging is not enabled, check https://docs.neptune.ai/getting-started/installation for more information on how to set this up\")\n",
      "2022-12-01 08:22:16.199102: I tensorflow/core/platform/cpu_feature_guard.cc:143] Your CPU supports instructions that this TensorFlow binary was not compiled to use: AVX2 FMA\n",
      "2022-12-01 08:22:16.227881: I tensorflow/core/platform/profile_utils/cpu_utils.cc:102] CPU Frequency: 3492935000 Hz\n",
      "2022-12-01 08:22:16.229882: I tensorflow/compiler/xla/service/service.cc:168] XLA service 0x7f8550000b20 initialized for platform Host (this does not guarantee that XLA will be used). Devices:\n",
      "2022-12-01 08:22:16.229930: I tensorflow/compiler/xla/service/service.cc:176]   StreamExecutor device (0): Host, Default Version\n",
      "2022-12-01 08:22:16.232726: I tensorflow/stream_executor/platform/default/dso_loader.cc:44] Successfully opened dynamic library libcuda.so.1\n",
      "2022-12-01 08:22:16.335821: I tensorflow/compiler/xla/service/service.cc:168] XLA service 0x556d9e26e3f0 initialized for platform CUDA (this does not guarantee that XLA will be used). Devices:\n",
      "2022-12-01 08:22:16.335878: I tensorflow/compiler/xla/service/service.cc:176]   StreamExecutor device (0): GeForce RTX 2080 Ti, Compute Capability 7.5\n",
      "2022-12-01 08:22:16.337335: I tensorflow/core/common_runtime/gpu/gpu_device.cc:1561] Found device 0 with properties: \n",
      "pciBusID: 0000:09:00.0 name: GeForce RTX 2080 Ti computeCapability: 7.5\n",
      "coreClock: 1.62GHz coreCount: 68 deviceMemorySize: 10.76GiB deviceMemoryBandwidth: 573.69GiB/s\n",
      "2022-12-01 08:22:16.337652: I tensorflow/stream_executor/platform/default/dso_loader.cc:44] Successfully opened dynamic library libcudart.so.10.1\n",
      "2022-12-01 08:22:16.339615: I tensorflow/stream_executor/platform/default/dso_loader.cc:44] Successfully opened dynamic library libcublas.so.10\n",
      "2022-12-01 08:22:16.341725: I tensorflow/stream_executor/platform/default/dso_loader.cc:44] Successfully opened dynamic library libcufft.so.10\n",
      "2022-12-01 08:22:16.342142: I tensorflow/stream_executor/platform/default/dso_loader.cc:44] Successfully opened dynamic library libcurand.so.10\n",
      "2022-12-01 08:22:16.344178: I tensorflow/stream_executor/platform/default/dso_loader.cc:44] Successfully opened dynamic library libcusolver.so.10\n",
      "2022-12-01 08:22:16.345014: I tensorflow/stream_executor/platform/default/dso_loader.cc:44] Successfully opened dynamic library libcusparse.so.10\n",
      "2022-12-01 08:22:16.347787: I tensorflow/stream_executor/platform/default/dso_loader.cc:44] Successfully opened dynamic library libcudnn.so.7\n",
      "2022-12-01 08:22:16.349175: I tensorflow/core/common_runtime/gpu/gpu_device.cc:1703] Adding visible gpu devices: 0\n",
      "2022-12-01 08:22:16.349248: I tensorflow/stream_executor/platform/default/dso_loader.cc:44] Successfully opened dynamic library libcudart.so.10.1\n",
      "2022-12-01 08:22:16.350338: I tensorflow/core/common_runtime/gpu/gpu_device.cc:1102] Device interconnect StreamExecutor with strength 1 edge matrix:\n",
      "2022-12-01 08:22:16.350349: I tensorflow/core/common_runtime/gpu/gpu_device.cc:1108]      0 \n",
      "2022-12-01 08:22:16.350355: I tensorflow/core/common_runtime/gpu/gpu_device.cc:1121] 0:   N \n",
      "2022-12-01 08:22:16.351626: I tensorflow/core/common_runtime/gpu/gpu_device.cc:1247] Created TensorFlow device (/job:localhost/replica:0/task:0/device:GPU:0 with 10059 MB memory) -> physical GPU (device: 0, name: GeForce RTX 2080 Ti, pci bus id: 0000:09:00.0, compute capability: 7.5)\n"
     ]
    }
   ],
   "source": [
    "import os, sys\n",
    "os.environ['CUDA_VISIBLE_DEVICES'] = '0'\n",
    "sys.path.append(\"../..\") # Adds higher directory to python modules path.\n",
    "\n",
    "import tensorflow as tf\n",
    "from tensorflow import keras\n",
    "from keras_flops import get_flops \n",
    "import numpy as np\n",
    "\n",
    "import brevis\n",
    "from brevis import raw_models\n",
    "from utils import Brevis_loss_final, growth_update, branch_conv2d, save_outputs\n",
    "from utils import getPredictions_Energy, infer_result, infer_result_OOD, get_branched_flops\n",
    "# os.environ['TF_DETERMINISTIC_OPS'] = '1'"
   ]
  },
  {
   "cell_type": "code",
   "execution_count": 2,
   "id": "63808689-d9f3-4b83-bdb9-aea850192fc1",
   "metadata": {},
   "outputs": [],
   "source": [
    "BASEMODEL_PATH = 'alexnet_cifar10_base.hdf5'\n",
    "BRANCHY_PATH = \"alexnet_cifar10_branchy.hdf5\"\n",
    "BREVIS_PATH = \"alexnet_cifar10_brevis.hdf5\""
   ]
  },
  {
   "cell_type": "markdown",
   "id": "97ef2530-963e-4255-a32c-0ea4d0c8dd44",
   "metadata": {},
   "source": [
    "## Model Determinism\n",
    "If using Deterministic Operations, enable the following block to ensure that at each step the model begins with the same random seed.\n",
    "This is particularlly helpful to directly compare hyperparameter changes for small improvements without the need to repeat multiple tests to get average results.\n",
    "It is slightly slower but still fairly fast."
   ]
  },
  {
   "cell_type": "code",
   "execution_count": 3,
   "id": "25e13424-2dac-4439-9d64-2c16462ed42a",
   "metadata": {},
   "outputs": [],
   "source": [
    "_DETERMINISTIC = False\n",
    "# _DETERMINISTIC = True\n",
    "\n",
    "_SEED = 42\n",
    "if _DETERMINISTIC: \n",
    "    import random\n",
    "    os.environ['TF_DETERMINISTIC_OPS'] = '1'\n",
    "    _SEED = 42\n",
    "\n",
    "def reset_seeds(seed = _SEED):\n",
    "    random.seed(seed)\n",
    "    tf.random.set_seed(seed)\n",
    "    np.random.seed(seed)"
   ]
  },
  {
   "cell_type": "markdown",
   "id": "7d031bd3-28d4-4761-a178-9e73fa41bdcb",
   "metadata": {},
   "source": [
    "## Load dataset\n",
    "Datasets are loaded in batches of 32, input sizes of (32,32) and shuffled between epochs.\n",
    "For Cifar datasets, The standard train and set sizes are used, with a separate 5k training images separated for validation set purposes."
   ]
  },
  {
   "cell_type": "code",
   "execution_count": 4,
   "id": "4695b657-8cb3-4e76-9b53-cd2c309b101b",
   "metadata": {
    "tags": []
   },
   "outputs": [
    {
     "name": "stdout",
     "output_type": "stream",
     "text": [
      "here\n"
     ]
    },
    {
     "name": "stderr",
     "output_type": "stream",
     "text": [
      "2022-12-01 08:22:17.378117: I tensorflow/core/common_runtime/gpu/gpu_device.cc:1561] Found device 0 with properties: \n",
      "pciBusID: 0000:09:00.0 name: GeForce RTX 2080 Ti computeCapability: 7.5\n",
      "coreClock: 1.62GHz coreCount: 68 deviceMemorySize: 10.76GiB deviceMemoryBandwidth: 573.69GiB/s\n",
      "2022-12-01 08:22:17.378216: I tensorflow/stream_executor/platform/default/dso_loader.cc:44] Successfully opened dynamic library libcudart.so.10.1\n",
      "2022-12-01 08:22:17.378231: I tensorflow/stream_executor/platform/default/dso_loader.cc:44] Successfully opened dynamic library libcublas.so.10\n",
      "2022-12-01 08:22:17.378243: I tensorflow/stream_executor/platform/default/dso_loader.cc:44] Successfully opened dynamic library libcufft.so.10\n",
      "2022-12-01 08:22:17.378254: I tensorflow/stream_executor/platform/default/dso_loader.cc:44] Successfully opened dynamic library libcurand.so.10\n",
      "2022-12-01 08:22:17.378265: I tensorflow/stream_executor/platform/default/dso_loader.cc:44] Successfully opened dynamic library libcusolver.so.10\n",
      "2022-12-01 08:22:17.378276: I tensorflow/stream_executor/platform/default/dso_loader.cc:44] Successfully opened dynamic library libcusparse.so.10\n",
      "2022-12-01 08:22:17.378288: I tensorflow/stream_executor/platform/default/dso_loader.cc:44] Successfully opened dynamic library libcudnn.so.7\n",
      "2022-12-01 08:22:17.379479: I tensorflow/core/common_runtime/gpu/gpu_device.cc:1703] Adding visible gpu devices: 0\n",
      "2022-12-01 08:22:17.380606: I tensorflow/core/common_runtime/gpu/gpu_device.cc:1561] Found device 0 with properties: \n",
      "pciBusID: 0000:09:00.0 name: GeForce RTX 2080 Ti computeCapability: 7.5\n",
      "coreClock: 1.62GHz coreCount: 68 deviceMemorySize: 10.76GiB deviceMemoryBandwidth: 573.69GiB/s\n",
      "2022-12-01 08:22:17.380633: I tensorflow/stream_executor/platform/default/dso_loader.cc:44] Successfully opened dynamic library libcudart.so.10.1\n",
      "2022-12-01 08:22:17.380647: I tensorflow/stream_executor/platform/default/dso_loader.cc:44] Successfully opened dynamic library libcublas.so.10\n",
      "2022-12-01 08:22:17.380660: I tensorflow/stream_executor/platform/default/dso_loader.cc:44] Successfully opened dynamic library libcufft.so.10\n",
      "2022-12-01 08:22:17.380671: I tensorflow/stream_executor/platform/default/dso_loader.cc:44] Successfully opened dynamic library libcurand.so.10\n",
      "2022-12-01 08:22:17.380683: I tensorflow/stream_executor/platform/default/dso_loader.cc:44] Successfully opened dynamic library libcusolver.so.10\n",
      "2022-12-01 08:22:17.380695: I tensorflow/stream_executor/platform/default/dso_loader.cc:44] Successfully opened dynamic library libcusparse.so.10\n",
      "2022-12-01 08:22:17.380706: I tensorflow/stream_executor/platform/default/dso_loader.cc:44] Successfully opened dynamic library libcudnn.so.7\n",
      "2022-12-01 08:22:17.381894: I tensorflow/core/common_runtime/gpu/gpu_device.cc:1703] Adding visible gpu devices: 0\n",
      "2022-12-01 08:22:17.381920: I tensorflow/core/common_runtime/gpu/gpu_device.cc:1102] Device interconnect StreamExecutor with strength 1 edge matrix:\n",
      "2022-12-01 08:22:17.381925: I tensorflow/core/common_runtime/gpu/gpu_device.cc:1108]      0 \n",
      "2022-12-01 08:22:17.381929: I tensorflow/core/common_runtime/gpu/gpu_device.cc:1121] 0:   N \n",
      "2022-12-01 08:22:17.383155: I tensorflow/core/common_runtime/gpu/gpu_device.cc:1247] Created TensorFlow device (/job:localhost/replica:0/task:0/device:GPU:0 with 10059 MB memory) -> physical GPU (device: 0, name: GeForce RTX 2080 Ti, pci bus id: 0000:09:00.0, compute capability: 7.5)\n"
     ]
    },
    {
     "name": "stdout",
     "output_type": "stream",
     "text": [
      "augment Dataset\n",
      "targetsis : False\n",
      "trainSize 45000\n",
      "testSize 10000\n"
     ]
    }
   ],
   "source": [
    "INPUT_SIZE = 224\n",
    "N_CHANNELS = 3\n",
    "N_CLASSES = 10\n",
    "DATASET = tf.keras.datasets.cifar10.load_data()\n",
    "train_ds, test_ds, validation_ds = brevis.dataset.prepare.dataset(tf.keras.datasets.cifar10.load_data(),\n",
    "                                                                32,5000,shuffle_size=15000,input_size=(INPUT_SIZE,INPUT_SIZE),\n",
    "                                                                include_targets=False,num_outputs = N_CLASSES,reshuffle=True)\n",
    "# INPUT_SIZE = 224\n",
    "# N_CHANNELS = 3\n",
    "# N_CLASSES = 5\n",
    "# DATASET = 'cassava'\n",
    "\n",
    "# train_ds, test_ds, validation_ds = brevis.dataset.prepare.dataset(DATASET,\n",
    "#                                                             32,1000,shuffle_size=1500,input_size=(INPUT_SIZE,INPUT_SIZE),\n",
    "#                                                             include_targets=False,num_outputs = N_CLASSES,reshuffle=True)\n"
   ]
  },
  {
   "cell_type": "code",
   "execution_count": 26,
   "id": "db7978c4-9efa-4055-8b71-657a2b53a91f",
   "metadata": {},
   "outputs": [],
   "source": [
    "(train_images, train_labels), (test_images, test_labels) = tf.keras.datasets.cifar10.load_data()"
   ]
  },
  {
   "cell_type": "code",
   "execution_count": 30,
   "id": "4bb707ca-fe18-4ca0-a36e-b914bb068cc4",
   "metadata": {},
   "outputs": [
    {
     "data": {
      "text/plain": [
       "((50000, 32, 32, 3), (50000, 1))"
      ]
     },
     "execution_count": 30,
     "metadata": {},
     "output_type": "execute_result"
    }
   ],
   "source": [
    "train_images.shape, train_labels.shape"
   ]
  },
  {
   "cell_type": "code",
   "execution_count": 5,
   "id": "b71c8bda-5fe8-4977-b209-12ae0961c015",
   "metadata": {},
   "outputs": [
    {
     "name": "stdout",
     "output_type": "stream",
     "text": [
      "here\n",
      "augment Dataset\n",
      "targetsis : False\n",
      "trainSize 45000\n",
      "testSize 10000\n"
     ]
    }
   ],
   "source": [
    "_, test_ds100, _ = brevis.dataset.prepare.dataset(tf.keras.datasets.cifar100.load_data(label_mode=\"fine\"),\n",
    "                                                                32,5000,shuffle_size=15000,input_size=(INPUT_SIZE,INPUT_SIZE),\n",
    "                                                                include_targets=False,num_outputs = 100,reshuffle=True)\n"
   ]
  },
  {
   "cell_type": "markdown",
   "id": "343c1328-1de8-4040-9cef-1547ede82c4f",
   "metadata": {},
   "source": [
    "## From Scratch Model"
   ]
  },
  {
   "cell_type": "code",
   "execution_count": 6,
   "id": "b83e04e4-2c64-4043-be8c-020bdc288d86",
   "metadata": {},
   "outputs": [],
   "source": [
    "base_model = raw_models.alexnet.get_model(INPUT_SIZE, N_CLASSES, N_CHANNELS)"
   ]
  },
  {
   "cell_type": "code",
   "execution_count": 7,
   "id": "9fca12d0-8fa8-492c-a2a3-27258cffb4ae",
   "metadata": {
    "scrolled": true,
    "tags": []
   },
   "outputs": [
    {
     "name": "stderr",
     "output_type": "stream",
     "text": [
      "2022-12-01 08:22:31.707786: I tensorflow/core/grappler/devices.cc:55] Number of eligible GPUs (core count >= 8, compute capability >= 0.0): 1\n",
      "2022-12-01 08:22:31.707928: I tensorflow/core/grappler/clusters/single_machine.cc:356] Starting new session\n",
      "2022-12-01 08:22:31.709210: I tensorflow/core/common_runtime/gpu/gpu_device.cc:1561] Found device 0 with properties: \n",
      "pciBusID: 0000:09:00.0 name: GeForce RTX 2080 Ti computeCapability: 7.5\n",
      "coreClock: 1.62GHz coreCount: 68 deviceMemorySize: 10.76GiB deviceMemoryBandwidth: 573.69GiB/s\n",
      "2022-12-01 08:22:31.709258: I tensorflow/stream_executor/platform/default/dso_loader.cc:44] Successfully opened dynamic library libcudart.so.10.1\n",
      "2022-12-01 08:22:31.709269: I tensorflow/stream_executor/platform/default/dso_loader.cc:44] Successfully opened dynamic library libcublas.so.10\n",
      "2022-12-01 08:22:31.709278: I tensorflow/stream_executor/platform/default/dso_loader.cc:44] Successfully opened dynamic library libcufft.so.10\n",
      "2022-12-01 08:22:31.709287: I tensorflow/stream_executor/platform/default/dso_loader.cc:44] Successfully opened dynamic library libcurand.so.10\n",
      "2022-12-01 08:22:31.709295: I tensorflow/stream_executor/platform/default/dso_loader.cc:44] Successfully opened dynamic library libcusolver.so.10\n",
      "2022-12-01 08:22:31.709304: I tensorflow/stream_executor/platform/default/dso_loader.cc:44] Successfully opened dynamic library libcusparse.so.10\n",
      "2022-12-01 08:22:31.709312: I tensorflow/stream_executor/platform/default/dso_loader.cc:44] Successfully opened dynamic library libcudnn.so.7\n",
      "2022-12-01 08:22:31.710425: I tensorflow/core/common_runtime/gpu/gpu_device.cc:1703] Adding visible gpu devices: 0\n",
      "2022-12-01 08:22:31.710449: I tensorflow/core/common_runtime/gpu/gpu_device.cc:1102] Device interconnect StreamExecutor with strength 1 edge matrix:\n",
      "2022-12-01 08:22:31.710453: I tensorflow/core/common_runtime/gpu/gpu_device.cc:1108]      0 \n",
      "2022-12-01 08:22:31.710457: I tensorflow/core/common_runtime/gpu/gpu_device.cc:1121] 0:   N \n",
      "2022-12-01 08:22:31.711598: I tensorflow/core/common_runtime/gpu/gpu_device.cc:1247] Created TensorFlow device (/job:localhost/replica:0/task:0/device:GPU:0 with 10059 MB memory) -> physical GPU (device: 0, name: GeForce RTX 2080 Ti, pci bus id: 0000:09:00.0, compute capability: 7.5)\n",
      "2022-12-01 08:22:31.716805: I tensorflow/core/grappler/optimizers/meta_optimizer.cc:797] Optimization results for grappler item: graph_to_optimize\n",
      "2022-12-01 08:22:31.716830: I tensorflow/core/grappler/optimizers/meta_optimizer.cc:799]   function_optimizer: function_optimizer did nothing. time = 0.002ms.\n",
      "2022-12-01 08:22:31.716837: I tensorflow/core/grappler/optimizers/meta_optimizer.cc:799]   function_optimizer: function_optimizer did nothing. time = 0ms.\n"
     ]
    },
    {
     "name": "stdout",
     "output_type": "stream",
     "text": [
      "WARNING:tensorflow:From /home/dunght/anaconda3/envs/tf2.2/lib/python3.7/site-packages/tensorflow/python/ops/nn_ops.py:4179: tensor_shape_from_node_def_name (from tensorflow.python.framework.graph_util_impl) is deprecated and will be removed in a future version.\n",
      "Instructions for updating:\n",
      "Use `tf.compat.v1.graph_util.tensor_shape_from_node_def_name`\n",
      "Parsing Inputs...\n",
      "\n",
      "=========================Options=============================\n",
      "-max_depth                  10000\n",
      "-min_bytes                  0\n",
      "-min_peak_bytes             0\n",
      "-min_residual_bytes         0\n",
      "-min_output_bytes           0\n",
      "-min_micros                 0\n",
      "-min_accelerator_micros     0\n",
      "-min_cpu_micros             0\n",
      "-min_params                 0\n",
      "-min_float_ops              1\n",
      "-min_occurrence             0\n",
      "-step                       -1\n",
      "-order_by                   float_ops\n",
      "-account_type_regexes       .*\n",
      "-start_name_regexes         .*\n",
      "-trim_name_regexes          \n",
      "-show_name_regexes          .*\n",
      "-hide_name_regexes          \n",
      "-account_displayed_op_only  true\n",
      "-select                     float_ops\n",
      "-output                     stdout:\n",
      "\n",
      "==================Model Analysis Report======================\n",
      "\n",
      "Doc:\n",
      "scope: The nodes in the model graph are organized by their names, which is hierarchical like filesystem.\n",
      "flops: Number of float operations. Note: Please read the implementation for the math behind it.\n",
      "\n",
      "Profile:\n",
      "node name | # float_ops\n",
      "_TFProfRoot (--/1.45b flops)\n",
      "  sequential/conv2d_1/Conv2D (830.67m/830.67m flops)\n",
      "  sequential/conv2d_2/Conv2D (254.80m/254.80m flops)\n",
      "  sequential/conv2d/Conv2D (203.23m/203.23m flops)\n",
      "  sequential/dense/MatMul (52.43m/52.43m flops)\n",
      "  sequential/conv2d_3/Conv2D (42.47m/42.47m flops)\n",
      "  sequential/dense_1/MatMul (33.55m/33.55m flops)\n",
      "  sequential/conv2d_4/Conv2D (28.31m/28.31m flops)\n",
      "  sequential/max_pooling2d/MaxPool (584.06k/584.06k flops)\n",
      "  sequential/batch_normalization/FusedBatchNormV3 (560.45k/560.45k flops)\n",
      "  sequential/batch_normalization_1/FusedBatchNormV3 (347.65k/347.65k flops)\n",
      "  sequential/max_pooling2d_1/MaxPool (331.78k/331.78k flops)\n",
      "  sequential/conv2d/BiasAdd (279.94k/279.94k flops)\n",
      "  sequential/conv2d_1/BiasAdd (173.06k/173.06k flops)\n",
      "  sequential/batch_normalization_3/FusedBatchNormV3 (112.90k/112.90k flops)\n",
      "  sequential/batch_normalization_2/FusedBatchNormV3 (112.90k/112.90k flops)\n",
      "  sequential/dense_2/MatMul (81.92k/81.92k flops)\n",
      "  sequential/batch_normalization_4/FusedBatchNormV3 (75.26k/75.26k flops)\n",
      "  sequential/max_pooling2d_2/MaxPool (57.60k/57.60k flops)\n",
      "  sequential/conv2d_2/BiasAdd (55.30k/55.30k flops)\n",
      "  sequential/conv2d_3/BiasAdd (55.30k/55.30k flops)\n",
      "  sequential/conv2d_4/BiasAdd (36.86k/36.86k flops)\n",
      "  sequential/dense/BiasAdd (4.10k/4.10k flops)\n",
      "  sequential/dense_1/BiasAdd (4.10k/4.10k flops)\n",
      "  sequential/dense_2/Softmax (50/50 flops)\n",
      "  sequential/dense_2/BiasAdd (10/10 flops)\n",
      "\n",
      "======================End of Report==========================\n",
      "FLOPS: 1.45 G\n"
     ]
    }
   ],
   "source": [
    "flops = get_branched_flops(base_model)\n",
    "print(f\"FLOPS: {flops:.03} G\")\n"
   ]
  },
  {
   "cell_type": "code",
   "execution_count": 8,
   "id": "ae0d3d19-c3c0-44b6-947d-2bb3e91667fc",
   "metadata": {},
   "outputs": [
    {
     "name": "stdout",
     "output_type": "stream",
     "text": [
      "Model: \"sequential\"\n",
      "_________________________________________________________________\n",
      "Layer (type)                 Output Shape              Param #   \n",
      "=================================================================\n",
      "conv2d (Conv2D)              (None, 54, 54, 96)        34944     \n",
      "_________________________________________________________________\n",
      "batch_normalization (BatchNo (None, 54, 54, 96)        384       \n",
      "_________________________________________________________________\n",
      "max_pooling2d (MaxPooling2D) (None, 26, 26, 96)        0         \n",
      "_________________________________________________________________\n",
      "conv2d_1 (Conv2D)            (None, 26, 26, 256)       614656    \n",
      "_________________________________________________________________\n",
      "batch_normalization_1 (Batch (None, 26, 26, 256)       1024      \n",
      "_________________________________________________________________\n",
      "max_pooling2d_1 (MaxPooling2 (None, 12, 12, 256)       0         \n",
      "_________________________________________________________________\n",
      "conv2d_2 (Conv2D)            (None, 12, 12, 384)       885120    \n",
      "_________________________________________________________________\n",
      "batch_normalization_2 (Batch (None, 12, 12, 384)       1536      \n",
      "_________________________________________________________________\n",
      "conv2d_3 (Conv2D)            (None, 12, 12, 384)       147840    \n",
      "_________________________________________________________________\n",
      "batch_normalization_3 (Batch (None, 12, 12, 384)       1536      \n",
      "_________________________________________________________________\n",
      "conv2d_4 (Conv2D)            (None, 12, 12, 256)       98560     \n",
      "_________________________________________________________________\n",
      "batch_normalization_4 (Batch (None, 12, 12, 256)       1024      \n",
      "_________________________________________________________________\n",
      "max_pooling2d_2 (MaxPooling2 (None, 5, 5, 256)         0         \n",
      "_________________________________________________________________\n",
      "flatten (Flatten)            (None, 6400)              0         \n",
      "_________________________________________________________________\n",
      "dense (Dense)                (None, 4096)              26218496  \n",
      "_________________________________________________________________\n",
      "dropout (Dropout)            (None, 4096)              0         \n",
      "_________________________________________________________________\n",
      "dense_1 (Dense)              (None, 4096)              16781312  \n",
      "_________________________________________________________________\n",
      "dropout_1 (Dropout)          (None, 4096)              0         \n",
      "_________________________________________________________________\n",
      "dense_2 (Dense)              (None, 10)                40970     \n",
      "=================================================================\n",
      "Total params: 44,827,402\n",
      "Trainable params: 44,824,650\n",
      "Non-trainable params: 2,752\n",
      "_________________________________________________________________\n"
     ]
    },
    {
     "name": "stderr",
     "output_type": "stream",
     "text": [
      "2022-12-01 08:22:35.344760: I tensorflow/stream_executor/platform/default/dso_loader.cc:44] Successfully opened dynamic library libcublas.so.10\n",
      "2022-12-01 08:22:43.651799: I tensorflow/stream_executor/platform/default/dso_loader.cc:44] Successfully opened dynamic library libcudnn.so.7\n"
     ]
    },
    {
     "name": "stdout",
     "output_type": "stream",
     "text": [
      "1407/1407 [==============================] - 49s 35ms/step - loss: 2.1895 - accuracy: 0.3347 - val_loss: 1.7437 - val_accuracy: 0.3922\n",
      "313/313 [==============================] - 5s 17ms/step - loss: 1.7249 - accuracy: 0.4043\n"
     ]
    }
   ],
   "source": [
    "base_model.compile(optimizer='adam', \n",
    "                loss='categorical_crossentropy',\n",
    "                metrics = ['accuracy'])\n",
    "\n",
    "base_model.summary()\n",
    "earlystop = tf.keras.callbacks.EarlyStopping(monitor='val_accuracy', min_delta=0.0001, patience=5, verbose=1, mode='auto')\n",
    "\n",
    "base_model.fit(train_ds, epochs=1, validation_data = validation_ds, batch_size=64,callbacks=[earlystop])\n",
    "\n",
    "loss, accuracy = base_model.evaluate(test_ds, batch_size=64)\n",
    "base_model.save(BASEMODEL_PATH)"
   ]
  },
  {
   "cell_type": "markdown",
   "id": "2c4d4918-3377-42ee-a87b-434fcceadd42",
   "metadata": {},
   "source": [
    "## Branchy Model"
   ]
  },
  {
   "cell_type": "code",
   "execution_count": 9,
   "id": "96badb16-2b1d-4ce3-a955-7a272f7590c8",
   "metadata": {},
   "outputs": [
    {
     "name": "stdout",
     "output_type": "stream",
     "text": [
      "Matching Branchpoint by id number\n",
      "Matching Branchpoint by name\n",
      "add Branch to branch point  max_pooling2d\n",
      "add Branch to branch point  max_pooling2d_1\n",
      "Tensor(\"conv2d_input:0\", shape=(None, 224, 224, 3), dtype=float32)\n",
      "[<tf.Tensor 'dense_2/Identity:0' shape=(None, 10) dtype=float32>, <tf.Tensor 'branch_exit/Identity:0' shape=(None, 10) dtype=float32>, <tf.Tensor 'branch_exit_1/Identity:0' shape=(None, 10) dtype=float32>]\n",
      "Setting Main Layers  and branch layers training to true\n"
     ]
    }
   ],
   "source": [
    "tf.keras.backend.clear_session()\n",
    "if _DETERMINISTIC:\n",
    "    reset_seeds()\n",
    "    \n",
    "### setup hyperparameter growth controls.\n",
    "\n",
    "### Loss functions \n",
    "trunk_loss = keras.losses.CategoricalCrossentropy(from_logits=False)\n",
    "CE_loss = keras.losses.CategoricalCrossentropy(from_logits=True)\n",
    "\n",
    "### Build the Model\n",
    "base_model = raw_models.alexnet.get_model(INPUT_SIZE, N_CLASSES, N_CHANNELS)\n",
    "branchy_model = brevis.BranchModel(model=base_model, custom_objects={})\n",
    "branchy_model = brevis.branches.branch.add_branches(branchy_model, \n",
    "                                            [lambda *args, **kwargs: branch_conv2d(*args, depths = [64, 256], **kwargs),\n",
    "                                            lambda *args, **kwargs: branch_conv2d(*args, depths = [128, 512], **kwargs)],\n",
    "                                           branchPoints =  [\"max_pooling2d\",\"max_pooling2d_1\"],\n",
    "                                            target_input=False,loop=False,num_outputs=N_CLASSES)\n",
    "              \n",
    "### Enable the training of the branches\n",
    "branchy_model.setFrozenTraining(False)\n",
    "\n",
    "### Compile the model. Provide either a single loss or an individual loss for each exit.\n",
    "branchy_model.compile(loss=[trunk_loss,CE_loss,CE_loss], \n",
    "                optimizer=tf.keras.optimizers.Adam(learning_rate=0.001,  beta_1=0.99,  beta_2=0.999,),\n",
    "                metrics=['accuracy'])\n",
    "\n",
    "# brevis_model = brevis.branches.branch.add_branches(\n",
    "#                         brevis_model,\n",
    "#                         [branch_conv2d , branch_conv2d],\n",
    "#                         [\"mixed0\",\"mixed1\"],\n",
    "#                         target_input=False,loop=False,num_outputs=N_CLASSES)\n",
    "\n",
    "# brevis_model.compile(loss=[trunk_loss,branch_loss,branch_loss], \n",
    "#                   optimizer=tf.optimizers.SGD(learning_rate=0.01, momentum=0.9),\n",
    "#                    metrics=['accuracy'])"
   ]
  },
  {
   "cell_type": "code",
   "execution_count": 10,
   "id": "5aff4653-2146-4fe1-bc10-a59618b32676",
   "metadata": {},
   "outputs": [
    {
     "name": "stdout",
     "output_type": "stream",
     "text": [
      "Model: \"branch_model\"\n",
      "__________________________________________________________________________________________________\n",
      "Layer (type)                    Output Shape         Param #     Connected to                     \n",
      "==================================================================================================\n",
      "conv2d_input (InputLayer)       [(None, 224, 224, 3) 0                                            \n",
      "__________________________________________________________________________________________________\n",
      "conv2d (Conv2D)                 (None, 54, 54, 96)   34944       conv2d_input[0][0]               \n",
      "__________________________________________________________________________________________________\n",
      "batch_normalization (BatchNorma (None, 54, 54, 96)   384         conv2d[0][0]                     \n",
      "__________________________________________________________________________________________________\n",
      "max_pooling2d (MaxPooling2D)    (None, 26, 26, 96)   0           batch_normalization[0][0]        \n",
      "__________________________________________________________________________________________________\n",
      "conv2d_1 (Conv2D)               (None, 26, 26, 256)  614656      max_pooling2d[0][0]              \n",
      "__________________________________________________________________________________________________\n",
      "batch_normalization_1 (BatchNor (None, 26, 26, 256)  1024        conv2d_1[0][0]                   \n",
      "__________________________________________________________________________________________________\n",
      "max_pooling2d_1 (MaxPooling2D)  (None, 12, 12, 256)  0           batch_normalization_1[0][0]      \n",
      "__________________________________________________________________________________________________\n",
      "conv2d_2 (Conv2D)               (None, 12, 12, 384)  885120      max_pooling2d_1[0][0]            \n",
      "__________________________________________________________________________________________________\n",
      "branch_conv2d (Conv2D)          (None, 26, 26, 64)   6208        max_pooling2d[0][0]              \n",
      "__________________________________________________________________________________________________\n",
      "branch_conv2d_3 (Conv2D)        (None, 12, 12, 128)  32896       max_pooling2d_1[0][0]            \n",
      "__________________________________________________________________________________________________\n",
      "batch_normalization_2 (BatchNor (None, 12, 12, 384)  1536        conv2d_2[0][0]                   \n",
      "__________________________________________________________________________________________________\n",
      "branch_batchnorm (BatchNormaliz (None, 26, 26, 64)   256         branch_conv2d[0][0]              \n",
      "__________________________________________________________________________________________________\n",
      "branch_batchnorm_3 (BatchNormal (None, 12, 12, 128)  512         branch_conv2d_3[0][0]            \n",
      "__________________________________________________________________________________________________\n",
      "conv2d_3 (Conv2D)               (None, 12, 12, 384)  147840      batch_normalization_2[0][0]      \n",
      "__________________________________________________________________________________________________\n",
      "branch_conv2d_1 (Conv2D)        (None, 26, 26, 64)   4160        branch_batchnorm[0][0]           \n",
      "__________________________________________________________________________________________________\n",
      "branch_conv2d_4 (Conv2D)        (None, 12, 12, 128)  16512       branch_batchnorm_3[0][0]         \n",
      "__________________________________________________________________________________________________\n",
      "batch_normalization_3 (BatchNor (None, 12, 12, 384)  1536        conv2d_3[0][0]                   \n",
      "__________________________________________________________________________________________________\n",
      "branch_batchnorm_1 (BatchNormal (None, 26, 26, 64)   256         branch_conv2d_1[0][0]            \n",
      "__________________________________________________________________________________________________\n",
      "branch_batchnorm_4 (BatchNormal (None, 12, 12, 128)  512         branch_conv2d_4[0][0]            \n",
      "__________________________________________________________________________________________________\n",
      "conv2d_4 (Conv2D)               (None, 12, 12, 256)  98560       batch_normalization_3[0][0]      \n",
      "__________________________________________________________________________________________________\n",
      "branch_maxpool (MaxPooling2D)   (None, 12, 12, 64)   0           branch_batchnorm_1[0][0]         \n",
      "__________________________________________________________________________________________________\n",
      "branch_maxpool_2 (MaxPooling2D) (None, 5, 5, 128)    0           branch_batchnorm_4[0][0]         \n",
      "__________________________________________________________________________________________________\n",
      "batch_normalization_4 (BatchNor (None, 12, 12, 256)  1024        conv2d_4[0][0]                   \n",
      "__________________________________________________________________________________________________\n",
      "branch_conv2d_2 (Conv2D)        (None, 12, 12, 256)  16640       branch_maxpool[0][0]             \n",
      "__________________________________________________________________________________________________\n",
      "branch_conv2d_5 (Conv2D)        (None, 5, 5, 512)    66048       branch_maxpool_2[0][0]           \n",
      "__________________________________________________________________________________________________\n",
      "max_pooling2d_2 (MaxPooling2D)  (None, 5, 5, 256)    0           batch_normalization_4[0][0]      \n",
      "__________________________________________________________________________________________________\n",
      "branch_batchnorm_2 (BatchNormal (None, 12, 12, 256)  1024        branch_conv2d_2[0][0]            \n",
      "__________________________________________________________________________________________________\n",
      "branch_batchnorm_5 (BatchNormal (None, 5, 5, 512)    2048        branch_conv2d_5[0][0]            \n",
      "__________________________________________________________________________________________________\n",
      "flatten (Flatten)               (None, 6400)         0           max_pooling2d_2[0][0]            \n",
      "__________________________________________________________________________________________________\n",
      "branch_maxpool_1 (MaxPooling2D) (None, 5, 5, 256)    0           branch_batchnorm_2[0][0]         \n",
      "__________________________________________________________________________________________________\n",
      "branch_maxpool_3 (MaxPooling2D) (None, 2, 2, 512)    0           branch_batchnorm_5[0][0]         \n",
      "__________________________________________________________________________________________________\n",
      "dense (Dense)                   (None, 4096)         26218496    flatten[0][0]                    \n",
      "__________________________________________________________________________________________________\n",
      "branch_flatten (Flatten)        (None, 6400)         0           branch_maxpool_1[0][0]           \n",
      "__________________________________________________________________________________________________\n",
      "branch_flatten_1 (Flatten)      (None, 2048)         0           branch_maxpool_3[0][0]           \n",
      "__________________________________________________________________________________________________\n",
      "dropout (Dropout)               (None, 4096)         0           dense[0][0]                      \n",
      "__________________________________________________________________________________________________\n",
      "branch_dense (Dense)            (None, 1024)         6554624     branch_flatten[0][0]             \n",
      "__________________________________________________________________________________________________\n",
      "branch_dense_2 (Dense)          (None, 1024)         2098176     branch_flatten_1[0][0]           \n",
      "__________________________________________________________________________________________________\n",
      "dense_1 (Dense)                 (None, 4096)         16781312    dropout[0][0]                    \n",
      "__________________________________________________________________________________________________\n",
      "branch_dropout (Dropout)        (None, 1024)         0           branch_dense[0][0]               \n",
      "__________________________________________________________________________________________________\n",
      "branch_dropout_1 (Dropout)      (None, 1024)         0           branch_dense_2[0][0]             \n",
      "__________________________________________________________________________________________________\n",
      "dropout_1 (Dropout)             (None, 4096)         0           dense_1[0][0]                    \n",
      "__________________________________________________________________________________________________\n",
      "branch_dense_1 (Dense)          (None, 512)          524800      branch_dropout[0][0]             \n",
      "__________________________________________________________________________________________________\n",
      "branch_dense_3 (Dense)          (None, 512)          524800      branch_dropout_1[0][0]           \n",
      "__________________________________________________________________________________________________\n",
      "dense_2 (Dense)                 (None, 10)           40970       dropout_1[0][0]                  \n",
      "__________________________________________________________________________________________________\n",
      "branch_exit (Dense)             (None, 10)           5130        branch_dense_1[0][0]             \n",
      "__________________________________________________________________________________________________\n",
      "branch_exit_1 (Dense)           (None, 10)           5130        branch_dense_3[0][0]             \n",
      "==================================================================================================\n",
      "Total params: 54,687,134\n",
      "Trainable params: 54,682,078\n",
      "Non-trainable params: 5,056\n",
      "__________________________________________________________________________________________________\n"
     ]
    }
   ],
   "source": [
    "branchy_model.summary()"
   ]
  },
  {
   "cell_type": "markdown",
   "id": "ad81decc-7993-43c0-ab03-70ccb4e42ba9",
   "metadata": {},
   "source": [
    "## Train the model and its newly added branches"
   ]
  },
  {
   "cell_type": "code",
   "execution_count": 11,
   "id": "4b19373c-183b-4001-a710-83ad1d8427d1",
   "metadata": {
    "tags": []
   },
   "outputs": [
    {
     "name": "stdout",
     "output_type": "stream",
     "text": [
      "1407/1407 [==============================] - ETA: 0s - loss: 6.0090 - dense_2_loss: 2.4668 - branch_exit_loss: 1.7416 - branch_exit_1_loss: 1.8006 - dense_2_accuracy: 0.2756 - branch_exit_accuracy: 0.4047 - branch_exit_1_accuracy: 0.3508WARNING:tensorflow:Early stopping conditioned on metric `val_accuracy` which is not available. Available metrics are: loss,dense_2_loss,branch_exit_loss,branch_exit_1_loss,dense_2_accuracy,branch_exit_accuracy,branch_exit_1_accuracy,val_loss,val_dense_2_loss,val_branch_exit_loss,val_branch_exit_1_loss,val_dense_2_accuracy,val_branch_exit_accuracy,val_branch_exit_1_accuracy\n",
      "1407/1407 [==============================] - 52s 37ms/step - loss: 6.0090 - dense_2_loss: 2.4668 - branch_exit_loss: 1.7416 - branch_exit_1_loss: 1.8006 - dense_2_accuracy: 0.2756 - branch_exit_accuracy: 0.4047 - branch_exit_1_accuracy: 0.3508 - val_loss: 5.0419 - val_dense_2_loss: 1.8408 - val_branch_exit_loss: 1.5843 - val_branch_exit_1_loss: 1.6168 - val_dense_2_accuracy: 0.3618 - val_branch_exit_accuracy: 0.4292 - val_branch_exit_1_accuracy: 0.4118\n"
     ]
    },
    {
     "data": {
      "text/plain": [
       "<tensorflow.python.keras.callbacks.History at 0x7f85081a2fd0>"
      ]
     },
     "execution_count": 11,
     "metadata": {},
     "output_type": "execute_result"
    }
   ],
   "source": [
    "earlystop1 = tf.keras.callbacks.EarlyStopping(monitor='val_branch_exit_accuracy', min_delta=0.0001, patience=5, verbose=1, mode='auto',restore_best_weights=True)\n",
    "earlystop2 = tf.keras.callbacks.EarlyStopping(monitor='val_branch_exit_1_accuracy', min_delta=0.0001, patience=5, verbose=1, mode='auto',restore_best_weights=True)\n",
    "earlystop3 = tf.keras.callbacks.EarlyStopping(monitor='val_accuracy', min_delta=0.0001, patience=5, verbose=1, mode='auto')\n",
    "branchy_model.fit(train_ds, epochs = 1, validation_data=validation_ds, callbacks=[earlystop1, earlystop2, earlystop3])"
   ]
  },
  {
   "cell_type": "code",
   "execution_count": 12,
   "id": "b9b522f5-2fbc-4982-88e4-93e31f55b8d3",
   "metadata": {},
   "outputs": [
    {
     "name": "stdout",
     "output_type": "stream",
     "text": [
      "313/313 [==============================] - 6s 18ms/step - loss: 5.0766 - dense_2_loss: 1.8180 - branch_exit_loss: 1.6358 - branch_exit_1_loss: 1.6227 - dense_2_accuracy: 0.3698 - branch_exit_accuracy: 0.4275 - branch_exit_1_accuracy: 0.4060\n"
     ]
    },
    {
     "data": {
      "text/plain": [
       "[5.076560974121094,\n",
       " 1.818029522895813,\n",
       " 1.6358327865600586,\n",
       " 1.62269926071167,\n",
       " 0.36980000138282776,\n",
       " 0.42750000953674316,\n",
       " 0.4059999883174896]"
      ]
     },
     "execution_count": 12,
     "metadata": {},
     "output_type": "execute_result"
    }
   ],
   "source": [
    "branchy_model.evaluate(test_ds)\n"
   ]
  },
  {
   "cell_type": "markdown",
   "id": "4322087d-56d1-4978-99d0-29400759841b",
   "metadata": {},
   "source": [
    "## Evaluate BranchyNet Results\n",
    "Next follow the below steps to evaluate the trained model to determine efficency improvement."
   ]
  },
  {
   "cell_type": "markdown",
   "id": "b7ba0e75-28c3-4827-a378-fc8c66e7274f",
   "metadata": {},
   "source": [
    "### 1. Cacluate Model Flops\n",
    "This calculator uses the inbuilt Tensorflow operation measurement and estimates the flop usage for each classfication exit.\n",
    "Early exits are included in the calculation of later exits to represent the cost of evaluating at the earlier branch and then the output being rejected."
   ]
  },
  {
   "cell_type": "code",
   "execution_count": 13,
   "id": "9b2c4b5e-29a1-4276-b17a-3c4b6be3b87d",
   "metadata": {
    "scrolled": true,
    "tags": []
   },
   "outputs": [
    {
     "name": "stderr",
     "output_type": "stream",
     "text": [
      "2022-12-01 08:24:49.417937: I tensorflow/core/grappler/devices.cc:55] Number of eligible GPUs (core count >= 8, compute capability >= 0.0): 1\n",
      "2022-12-01 08:24:49.418051: I tensorflow/core/grappler/clusters/single_machine.cc:356] Starting new session\n",
      "2022-12-01 08:24:49.419205: I tensorflow/core/common_runtime/gpu/gpu_device.cc:1561] Found device 0 with properties: \n",
      "pciBusID: 0000:09:00.0 name: GeForce RTX 2080 Ti computeCapability: 7.5\n",
      "coreClock: 1.62GHz coreCount: 68 deviceMemorySize: 10.76GiB deviceMemoryBandwidth: 573.69GiB/s\n",
      "2022-12-01 08:24:49.419256: I tensorflow/stream_executor/platform/default/dso_loader.cc:44] Successfully opened dynamic library libcudart.so.10.1\n",
      "2022-12-01 08:24:49.419269: I tensorflow/stream_executor/platform/default/dso_loader.cc:44] Successfully opened dynamic library libcublas.so.10\n",
      "2022-12-01 08:24:49.419279: I tensorflow/stream_executor/platform/default/dso_loader.cc:44] Successfully opened dynamic library libcufft.so.10\n",
      "2022-12-01 08:24:49.419289: I tensorflow/stream_executor/platform/default/dso_loader.cc:44] Successfully opened dynamic library libcurand.so.10\n",
      "2022-12-01 08:24:49.419298: I tensorflow/stream_executor/platform/default/dso_loader.cc:44] Successfully opened dynamic library libcusolver.so.10\n",
      "2022-12-01 08:24:49.419308: I tensorflow/stream_executor/platform/default/dso_loader.cc:44] Successfully opened dynamic library libcusparse.so.10\n",
      "2022-12-01 08:24:49.419317: I tensorflow/stream_executor/platform/default/dso_loader.cc:44] Successfully opened dynamic library libcudnn.so.7\n",
      "2022-12-01 08:24:49.420365: I tensorflow/core/common_runtime/gpu/gpu_device.cc:1703] Adding visible gpu devices: 0\n",
      "2022-12-01 08:24:49.420391: I tensorflow/core/common_runtime/gpu/gpu_device.cc:1102] Device interconnect StreamExecutor with strength 1 edge matrix:\n",
      "2022-12-01 08:24:49.420395: I tensorflow/core/common_runtime/gpu/gpu_device.cc:1108]      0 \n",
      "2022-12-01 08:24:49.420398: I tensorflow/core/common_runtime/gpu/gpu_device.cc:1121] 0:   N \n",
      "2022-12-01 08:24:49.421450: I tensorflow/core/common_runtime/gpu/gpu_device.cc:1247] Created TensorFlow device (/job:localhost/replica:0/task:0/device:GPU:0 with 10059 MB memory) -> physical GPU (device: 0, name: GeForce RTX 2080 Ti, pci bus id: 0000:09:00.0, compute capability: 7.5)\n",
      "2022-12-01 08:24:49.425651: I tensorflow/core/grappler/optimizers/meta_optimizer.cc:797] Optimization results for grappler item: graph_to_optimize\n",
      "2022-12-01 08:24:49.425673: I tensorflow/core/grappler/optimizers/meta_optimizer.cc:799]   function_optimizer: function_optimizer did nothing. time = 0.002ms.\n",
      "2022-12-01 08:24:49.425680: I tensorflow/core/grappler/optimizers/meta_optimizer.cc:799]   function_optimizer: function_optimizer did nothing. time = 0.001ms.\n"
     ]
    },
    {
     "name": "stdout",
     "output_type": "stream",
     "text": [
      "Parsing Inputs...\n",
      "\n",
      "=========================Options=============================\n",
      "-max_depth                  10000\n",
      "-min_bytes                  0\n",
      "-min_peak_bytes             0\n",
      "-min_residual_bytes         0\n",
      "-min_output_bytes           0\n",
      "-min_micros                 0\n",
      "-min_accelerator_micros     0\n",
      "-min_cpu_micros             0\n",
      "-min_params                 0\n",
      "-min_float_ops              1\n",
      "-min_occurrence             0\n",
      "-step                       -1\n",
      "-order_by                   float_ops\n",
      "-account_type_regexes       .*\n",
      "-start_name_regexes         .*\n",
      "-trim_name_regexes          \n",
      "-show_name_regexes          .*\n",
      "-hide_name_regexes          \n",
      "-account_displayed_op_only  true\n",
      "-select                     float_ops\n",
      "-output                     stdout:\n",
      "\n",
      "==================Model Analysis Report======================\n",
      "\n",
      "Doc:\n",
      "scope: The nodes in the model graph are organized by their names, which is hierarchical like filesystem.\n",
      "flops: Number of float operations. Note: Please read the implementation for the math behind it.\n",
      "\n",
      "Profile:\n",
      "node name | # float_ops\n",
      "_TFProfRoot (--/237.90m flops)\n",
      "  model/conv2d/Conv2D (203.23m/203.23m flops)\n",
      "  model/branch_dense/MatMul (13.11m/13.11m flops)\n",
      "  model/branch_conv2d/Conv2D (8.31m/8.31m flops)\n",
      "  model/branch_conv2d_1/Conv2D (5.54m/5.54m flops)\n",
      "  model/branch_conv2d_2/Conv2D (4.72m/4.72m flops)\n",
      "  model/branch_dense_1/MatMul (1.05m/1.05m flops)\n",
      "  model/max_pooling2d/MaxPool (584.06k/584.06k flops)\n",
      "  model/batch_normalization/FusedBatchNormV3 (560.45k/560.45k flops)\n",
      "  model/conv2d/BiasAdd (279.94k/279.94k flops)\n",
      "  model/branch_batchnorm/FusedBatchNormV3 (86.91k/86.91k flops)\n",
      "  model/branch_batchnorm_1/FusedBatchNormV3 (86.91k/86.91k flops)\n",
      "  model/branch_maxpool/MaxPool (82.94k/82.94k flops)\n",
      "  model/branch_batchnorm_2/FusedBatchNormV3 (75.26k/75.26k flops)\n",
      "  model/branch_maxpool_1/MaxPool (57.60k/57.60k flops)\n",
      "  model/branch_conv2d_1/BiasAdd (43.26k/43.26k flops)\n",
      "  model/branch_conv2d/BiasAdd (43.26k/43.26k flops)\n",
      "  model/branch_conv2d_2/BiasAdd (36.86k/36.86k flops)\n",
      "  model/branch_exit/MatMul (10.24k/10.24k flops)\n",
      "  model/branch_dense/BiasAdd (1.02k/1.02k flops)\n",
      "  model/branch_dense_1/BiasAdd (512/512 flops)\n",
      "  model/branch_exit/BiasAdd (10/10 flops)\n",
      "\n",
      "======================End of Report==========================\n"
     ]
    },
    {
     "name": "stderr",
     "output_type": "stream",
     "text": [
      "2022-12-01 08:24:49.782663: I tensorflow/core/grappler/devices.cc:55] Number of eligible GPUs (core count >= 8, compute capability >= 0.0): 1\n",
      "2022-12-01 08:24:49.782763: I tensorflow/core/grappler/clusters/single_machine.cc:356] Starting new session\n",
      "2022-12-01 08:24:49.783922: I tensorflow/core/common_runtime/gpu/gpu_device.cc:1561] Found device 0 with properties: \n",
      "pciBusID: 0000:09:00.0 name: GeForce RTX 2080 Ti computeCapability: 7.5\n",
      "coreClock: 1.62GHz coreCount: 68 deviceMemorySize: 10.76GiB deviceMemoryBandwidth: 573.69GiB/s\n",
      "2022-12-01 08:24:49.783971: I tensorflow/stream_executor/platform/default/dso_loader.cc:44] Successfully opened dynamic library libcudart.so.10.1\n",
      "2022-12-01 08:24:49.783982: I tensorflow/stream_executor/platform/default/dso_loader.cc:44] Successfully opened dynamic library libcublas.so.10\n",
      "2022-12-01 08:24:49.783991: I tensorflow/stream_executor/platform/default/dso_loader.cc:44] Successfully opened dynamic library libcufft.so.10\n",
      "2022-12-01 08:24:49.784000: I tensorflow/stream_executor/platform/default/dso_loader.cc:44] Successfully opened dynamic library libcurand.so.10\n",
      "2022-12-01 08:24:49.784012: I tensorflow/stream_executor/platform/default/dso_loader.cc:44] Successfully opened dynamic library libcusolver.so.10\n",
      "2022-12-01 08:24:49.784021: I tensorflow/stream_executor/platform/default/dso_loader.cc:44] Successfully opened dynamic library libcusparse.so.10\n",
      "2022-12-01 08:24:49.784030: I tensorflow/stream_executor/platform/default/dso_loader.cc:44] Successfully opened dynamic library libcudnn.so.7\n",
      "2022-12-01 08:24:49.785045: I tensorflow/core/common_runtime/gpu/gpu_device.cc:1703] Adding visible gpu devices: 0\n",
      "2022-12-01 08:24:49.785070: I tensorflow/core/common_runtime/gpu/gpu_device.cc:1102] Device interconnect StreamExecutor with strength 1 edge matrix:\n",
      "2022-12-01 08:24:49.785074: I tensorflow/core/common_runtime/gpu/gpu_device.cc:1108]      0 \n",
      "2022-12-01 08:24:49.785078: I tensorflow/core/common_runtime/gpu/gpu_device.cc:1121] 0:   N \n",
      "2022-12-01 08:24:49.786122: I tensorflow/core/common_runtime/gpu/gpu_device.cc:1247] Created TensorFlow device (/job:localhost/replica:0/task:0/device:GPU:0 with 10059 MB memory) -> physical GPU (device: 0, name: GeForce RTX 2080 Ti, pci bus id: 0000:09:00.0, compute capability: 7.5)\n",
      "2022-12-01 08:24:49.789405: I tensorflow/core/grappler/optimizers/meta_optimizer.cc:797] Optimization results for grappler item: graph_to_optimize\n",
      "2022-12-01 08:24:49.789422: I tensorflow/core/grappler/optimizers/meta_optimizer.cc:799]   function_optimizer: function_optimizer did nothing. time = 0.002ms.\n",
      "2022-12-01 08:24:49.789425: I tensorflow/core/grappler/optimizers/meta_optimizer.cc:799]   function_optimizer: function_optimizer did nothing. time = 0ms.\n"
     ]
    },
    {
     "name": "stdout",
     "output_type": "stream",
     "text": [
      "Parsing Inputs...\n",
      "\n",
      "=========================Options=============================\n",
      "-max_depth                  10000\n",
      "-min_bytes                  0\n",
      "-min_peak_bytes             0\n",
      "-min_residual_bytes         0\n",
      "-min_output_bytes           0\n",
      "-min_micros                 0\n",
      "-min_accelerator_micros     0\n",
      "-min_cpu_micros             0\n",
      "-min_params                 0\n",
      "-min_float_ops              1\n",
      "-min_occurrence             0\n",
      "-step                       -1\n",
      "-order_by                   float_ops\n",
      "-account_type_regexes       .*\n",
      "-start_name_regexes         .*\n",
      "-trim_name_regexes          \n",
      "-show_name_regexes          .*\n",
      "-hide_name_regexes          \n",
      "-account_displayed_op_only  true\n",
      "-select                     float_ops\n",
      "-output                     stdout:\n",
      "\n",
      "==================Model Analysis Report======================\n",
      "\n",
      "Doc:\n",
      "scope: The nodes in the model graph are organized by their names, which is hierarchical like filesystem.\n",
      "flops: Number of float operations. Note: Please read the implementation for the math behind it.\n",
      "\n",
      "Profile:\n",
      "node name | # float_ops\n",
      "_TFProfRoot (--/1.09b flops)\n",
      "  model_1/conv2d_1/Conv2D (830.67m/830.67m flops)\n",
      "  model_1/conv2d/Conv2D (203.23m/203.23m flops)\n",
      "  model_1/branch_dense/MatMul (13.11m/13.11m flops)\n",
      "  model_1/branch_conv2d_3/Conv2D (9.44m/9.44m flops)\n",
      "  model_1/branch_conv2d/Conv2D (8.31m/8.31m flops)\n",
      "  model_1/branch_conv2d_1/Conv2D (5.54m/5.54m flops)\n",
      "  model_1/branch_conv2d_4/Conv2D (4.72m/4.72m flops)\n",
      "  model_1/branch_conv2d_2/Conv2D (4.72m/4.72m flops)\n",
      "  model_1/branch_dense_2/MatMul (4.19m/4.19m flops)\n",
      "  model_1/branch_conv2d_5/Conv2D (3.28m/3.28m flops)\n",
      "  model_1/branch_dense_3/MatMul (1.05m/1.05m flops)\n",
      "  model_1/branch_dense_1/MatMul (1.05m/1.05m flops)\n",
      "  model_1/max_pooling2d/MaxPool (584.06k/584.06k flops)\n",
      "  model_1/batch_normalization/FusedBatchNormV3 (560.45k/560.45k flops)\n",
      "  model_1/batch_normalization_1/FusedBatchNormV3 (347.65k/347.65k flops)\n",
      "  model_1/max_pooling2d_1/MaxPool (331.78k/331.78k flops)\n",
      "  model_1/conv2d/BiasAdd (279.94k/279.94k flops)\n",
      "  model_1/conv2d_1/BiasAdd (173.06k/173.06k flops)\n",
      "  model_1/branch_batchnorm/FusedBatchNormV3 (86.91k/86.91k flops)\n",
      "  model_1/branch_batchnorm_1/FusedBatchNormV3 (86.91k/86.91k flops)\n",
      "  model_1/branch_maxpool/MaxPool (82.94k/82.94k flops)\n",
      "  model_1/branch_batchnorm_2/FusedBatchNormV3 (75.26k/75.26k flops)\n",
      "  model_1/branch_maxpool_1/MaxPool (57.60k/57.60k flops)\n",
      "  model_1/branch_conv2d/BiasAdd (43.26k/43.26k flops)\n",
      "  model_1/branch_conv2d_1/BiasAdd (43.26k/43.26k flops)\n",
      "  model_1/branch_batchnorm_4/FusedBatchNormV3 (37.63k/37.63k flops)\n",
      "  model_1/branch_batchnorm_3/FusedBatchNormV3 (37.63k/37.63k flops)\n",
      "  model_1/branch_conv2d_2/BiasAdd (36.86k/36.86k flops)\n",
      "  model_1/branch_maxpool_2/MaxPool (28.80k/28.80k flops)\n",
      "  model_1/branch_batchnorm_5/FusedBatchNormV3 (28.67k/28.67k flops)\n",
      "  model_1/branch_maxpool_3/MaxPool (18.43k/18.43k flops)\n",
      "  model_1/branch_conv2d_4/BiasAdd (18.43k/18.43k flops)\n",
      "  model_1/branch_conv2d_3/BiasAdd (18.43k/18.43k flops)\n",
      "  model_1/branch_conv2d_5/BiasAdd (12.80k/12.80k flops)\n",
      "  model_1/branch_exit_1/MatMul (10.24k/10.24k flops)\n",
      "  model_1/branch_exit/MatMul (10.24k/10.24k flops)\n",
      "  model_1/branch_dense_2/BiasAdd (1.02k/1.02k flops)\n",
      "  model_1/branch_dense/BiasAdd (1.02k/1.02k flops)\n",
      "  model_1/branch_dense_3/BiasAdd (512/512 flops)\n",
      "  model_1/branch_dense_1/BiasAdd (512/512 flops)\n",
      "  model_1/branch_exit_1/BiasAdd (10/10 flops)\n",
      "  model_1/branch_exit/BiasAdd (10/10 flops)\n",
      "\n",
      "======================End of Report==========================\n"
     ]
    },
    {
     "name": "stderr",
     "output_type": "stream",
     "text": [
      "2022-12-01 08:24:50.328226: I tensorflow/core/grappler/devices.cc:55] Number of eligible GPUs (core count >= 8, compute capability >= 0.0): 1\n",
      "2022-12-01 08:24:50.328329: I tensorflow/core/grappler/clusters/single_machine.cc:356] Starting new session\n",
      "2022-12-01 08:24:50.329343: I tensorflow/core/common_runtime/gpu/gpu_device.cc:1561] Found device 0 with properties: \n",
      "pciBusID: 0000:09:00.0 name: GeForce RTX 2080 Ti computeCapability: 7.5\n",
      "coreClock: 1.62GHz coreCount: 68 deviceMemorySize: 10.76GiB deviceMemoryBandwidth: 573.69GiB/s\n",
      "2022-12-01 08:24:50.329412: I tensorflow/stream_executor/platform/default/dso_loader.cc:44] Successfully opened dynamic library libcudart.so.10.1\n",
      "2022-12-01 08:24:50.329425: I tensorflow/stream_executor/platform/default/dso_loader.cc:44] Successfully opened dynamic library libcublas.so.10\n",
      "2022-12-01 08:24:50.329437: I tensorflow/stream_executor/platform/default/dso_loader.cc:44] Successfully opened dynamic library libcufft.so.10\n",
      "2022-12-01 08:24:50.329448: I tensorflow/stream_executor/platform/default/dso_loader.cc:44] Successfully opened dynamic library libcurand.so.10\n",
      "2022-12-01 08:24:50.329458: I tensorflow/stream_executor/platform/default/dso_loader.cc:44] Successfully opened dynamic library libcusolver.so.10\n",
      "2022-12-01 08:24:50.329468: I tensorflow/stream_executor/platform/default/dso_loader.cc:44] Successfully opened dynamic library libcusparse.so.10\n",
      "2022-12-01 08:24:50.329479: I tensorflow/stream_executor/platform/default/dso_loader.cc:44] Successfully opened dynamic library libcudnn.so.7\n",
      "2022-12-01 08:24:50.330529: I tensorflow/core/common_runtime/gpu/gpu_device.cc:1703] Adding visible gpu devices: 0\n",
      "2022-12-01 08:24:50.330556: I tensorflow/core/common_runtime/gpu/gpu_device.cc:1102] Device interconnect StreamExecutor with strength 1 edge matrix:\n",
      "2022-12-01 08:24:50.330561: I tensorflow/core/common_runtime/gpu/gpu_device.cc:1108]      0 \n",
      "2022-12-01 08:24:50.330565: I tensorflow/core/common_runtime/gpu/gpu_device.cc:1121] 0:   N \n",
      "2022-12-01 08:24:50.331651: I tensorflow/core/common_runtime/gpu/gpu_device.cc:1247] Created TensorFlow device (/job:localhost/replica:0/task:0/device:GPU:0 with 10059 MB memory) -> physical GPU (device: 0, name: GeForce RTX 2080 Ti, pci bus id: 0000:09:00.0, compute capability: 7.5)\n",
      "2022-12-01 08:24:50.336112: I tensorflow/core/grappler/optimizers/meta_optimizer.cc:797] Optimization results for grappler item: graph_to_optimize\n",
      "2022-12-01 08:24:50.336133: I tensorflow/core/grappler/optimizers/meta_optimizer.cc:799]   function_optimizer: function_optimizer did nothing. time = 0.002ms.\n",
      "2022-12-01 08:24:50.336137: I tensorflow/core/grappler/optimizers/meta_optimizer.cc:799]   function_optimizer: function_optimizer did nothing. time = 0ms.\n"
     ]
    },
    {
     "name": "stdout",
     "output_type": "stream",
     "text": [
      "Parsing Inputs...\n",
      "\n",
      "=========================Options=============================\n",
      "-max_depth                  10000\n",
      "-min_bytes                  0\n",
      "-min_peak_bytes             0\n",
      "-min_residual_bytes         0\n",
      "-min_output_bytes           0\n",
      "-min_micros                 0\n",
      "-min_accelerator_micros     0\n",
      "-min_cpu_micros             0\n",
      "-min_params                 0\n",
      "-min_float_ops              1\n",
      "-min_occurrence             0\n",
      "-step                       -1\n",
      "-order_by                   float_ops\n",
      "-account_type_regexes       .*\n",
      "-start_name_regexes         .*\n",
      "-trim_name_regexes          \n",
      "-show_name_regexes          .*\n",
      "-hide_name_regexes          \n",
      "-account_displayed_op_only  true\n",
      "-select                     float_ops\n",
      "-output                     stdout:\n",
      "\n",
      "==================Model Analysis Report======================\n",
      "\n",
      "Doc:\n",
      "scope: The nodes in the model graph are organized by their names, which is hierarchical like filesystem.\n",
      "flops: Number of float operations. Note: Please read the implementation for the math behind it.\n",
      "\n",
      "Profile:\n",
      "node name | # float_ops\n",
      "_TFProfRoot (--/1.50b flops)\n",
      "  model_2/conv2d_1/Conv2D (830.67m/830.67m flops)\n",
      "  model_2/conv2d_2/Conv2D (254.80m/254.80m flops)\n",
      "  model_2/conv2d/Conv2D (203.23m/203.23m flops)\n",
      "  model_2/dense/MatMul (52.43m/52.43m flops)\n",
      "  model_2/conv2d_3/Conv2D (42.47m/42.47m flops)\n",
      "  model_2/dense_1/MatMul (33.55m/33.55m flops)\n",
      "  model_2/conv2d_4/Conv2D (28.31m/28.31m flops)\n",
      "  model_2/branch_dense/MatMul (13.11m/13.11m flops)\n",
      "  model_2/branch_conv2d_3/Conv2D (9.44m/9.44m flops)\n",
      "  model_2/branch_conv2d/Conv2D (8.31m/8.31m flops)\n",
      "  model_2/branch_conv2d_1/Conv2D (5.54m/5.54m flops)\n",
      "  model_2/branch_conv2d_2/Conv2D (4.72m/4.72m flops)\n",
      "  model_2/branch_conv2d_4/Conv2D (4.72m/4.72m flops)\n",
      "  model_2/branch_dense_2/MatMul (4.19m/4.19m flops)\n",
      "  model_2/branch_conv2d_5/Conv2D (3.28m/3.28m flops)\n",
      "  model_2/branch_dense_3/MatMul (1.05m/1.05m flops)\n",
      "  model_2/branch_dense_1/MatMul (1.05m/1.05m flops)\n",
      "  model_2/max_pooling2d/MaxPool (584.06k/584.06k flops)\n",
      "  model_2/batch_normalization/FusedBatchNormV3 (560.45k/560.45k flops)\n",
      "  model_2/batch_normalization_1/FusedBatchNormV3 (347.65k/347.65k flops)\n",
      "  model_2/max_pooling2d_1/MaxPool (331.78k/331.78k flops)\n",
      "  model_2/conv2d/BiasAdd (279.94k/279.94k flops)\n",
      "  model_2/conv2d_1/BiasAdd (173.06k/173.06k flops)\n",
      "  model_2/batch_normalization_3/FusedBatchNormV3 (112.90k/112.90k flops)\n",
      "  model_2/batch_normalization_2/FusedBatchNormV3 (112.90k/112.90k flops)\n",
      "  model_2/branch_batchnorm_1/FusedBatchNormV3 (86.91k/86.91k flops)\n",
      "  model_2/branch_batchnorm/FusedBatchNormV3 (86.91k/86.91k flops)\n",
      "  model_2/branch_maxpool/MaxPool (82.94k/82.94k flops)\n",
      "  model_2/dense_2/MatMul (81.92k/81.92k flops)\n",
      "  model_2/branch_batchnorm_2/FusedBatchNormV3 (75.26k/75.26k flops)\n",
      "  model_2/batch_normalization_4/FusedBatchNormV3 (75.26k/75.26k flops)\n",
      "  model_2/max_pooling2d_2/MaxPool (57.60k/57.60k flops)\n",
      "  model_2/branch_maxpool_1/MaxPool (57.60k/57.60k flops)\n",
      "  model_2/conv2d_2/BiasAdd (55.30k/55.30k flops)\n",
      "  model_2/conv2d_3/BiasAdd (55.30k/55.30k flops)\n",
      "  model_2/branch_conv2d/BiasAdd (43.26k/43.26k flops)\n",
      "  model_2/branch_conv2d_1/BiasAdd (43.26k/43.26k flops)\n",
      "  model_2/branch_batchnorm_3/FusedBatchNormV3 (37.63k/37.63k flops)\n",
      "  model_2/branch_batchnorm_4/FusedBatchNormV3 (37.63k/37.63k flops)\n",
      "  model_2/branch_conv2d_2/BiasAdd (36.86k/36.86k flops)\n",
      "  model_2/conv2d_4/BiasAdd (36.86k/36.86k flops)\n",
      "  model_2/branch_maxpool_2/MaxPool (28.80k/28.80k flops)\n",
      "  model_2/branch_batchnorm_5/FusedBatchNormV3 (28.67k/28.67k flops)\n",
      "  model_2/branch_conv2d_4/BiasAdd (18.43k/18.43k flops)\n",
      "  model_2/branch_conv2d_3/BiasAdd (18.43k/18.43k flops)\n",
      "  model_2/branch_maxpool_3/MaxPool (18.43k/18.43k flops)\n",
      "  model_2/branch_conv2d_5/BiasAdd (12.80k/12.80k flops)\n",
      "  model_2/branch_exit/MatMul (10.24k/10.24k flops)\n",
      "  model_2/branch_exit_1/MatMul (10.24k/10.24k flops)\n",
      "  model_2/dense/BiasAdd (4.10k/4.10k flops)\n",
      "  model_2/dense_1/BiasAdd (4.10k/4.10k flops)\n",
      "  model_2/branch_dense/BiasAdd (1.02k/1.02k flops)\n",
      "  model_2/branch_dense_2/BiasAdd (1.02k/1.02k flops)\n",
      "  model_2/branch_dense_1/BiasAdd (512/512 flops)\n",
      "  model_2/branch_dense_3/BiasAdd (512/512 flops)\n",
      "  model_2/dense_2/Softmax (50/50 flops)\n",
      "  model_2/branch_exit_1/BiasAdd (10/10 flops)\n",
      "  model_2/dense_2/BiasAdd (10/10 flops)\n",
      "  model_2/branch_exit/BiasAdd (10/10 flops)\n",
      "\n",
      "======================End of Report==========================\n"
     ]
    }
   ],
   "source": [
    "flops = get_branched_flops(branchy_model, [\"branch_exit\", \"branch_exit_1\", \"dense_2\"])"
   ]
  },
  {
   "cell_type": "code",
   "execution_count": 14,
   "id": "c6bf589a-1660-4fcf-805a-215b7d2665ec",
   "metadata": {},
   "outputs": [
    {
     "data": {
      "text/plain": [
       "[0.237901642, 1.092310996, 1.50447336]"
      ]
     },
     "execution_count": 14,
     "metadata": {},
     "output_type": "execute_result"
    }
   ],
   "source": [
    "flops"
   ]
  },
  {
   "cell_type": "markdown",
   "id": "bdd51d9b-2ce4-44df-b1cb-0b569d219a20",
   "metadata": {},
   "source": [
    "### 3. Get Test set predictions"
   ]
  },
  {
   "cell_type": "code",
   "execution_count": 15,
   "id": "c3f372ed-6cf7-427e-86cf-9feecbae3dde",
   "metadata": {},
   "outputs": [
    {
     "name": "stderr",
     "output_type": "stream",
     "text": [
      "Processing branch 1: 10000it [00:27, 362.84it/s]\n",
      "Processing branch 2: 10000it [00:27, 364.57it/s]\n",
      "Processing branch 3: 10000it [00:27, 367.54it/s]\n",
      "Processing branch 1: 10000it [00:27, 361.34it/s]\n",
      "Processing branch 2: 10000it [00:26, 375.40it/s]\n",
      "Processing branch 3: 10000it [00:27, 362.48it/s]\n"
     ]
    }
   ],
   "source": [
    "output_branchy_ID= getPredictions_Energy(branchy_model, test_ds,stopping_point=None)\n",
    "output_branchy_OOD = getPredictions_Energy(branchy_model, test_ds100,stopping_point=None)"
   ]
  },
  {
   "cell_type": "markdown",
   "id": "cd612af8-4431-40f7-b08c-1b6e94889f17",
   "metadata": {},
   "source": [
    "### 4. Evaluate Test Results\n"
   ]
  },
  {
   "cell_type": "code",
   "execution_count": 16,
   "id": "0364d9b0-8e20-4ec2-8c9c-621df88c8b2b",
   "metadata": {},
   "outputs": [
    {
     "name": "stdout",
     "output_type": "stream",
     "text": [
      "metric:  entropy threshold:  gmean\n",
      "m entropy\n",
      "metric entropy\n",
      "entropy  lr_auc 0.3685694352355627 Best Threshold=3.3190667629241943, G-Mean=0.5921168292960475, TPR=0.6010790225325293, FPR=0.4167117360735533\n",
      "m entropy\n",
      "metric entropy\n",
      "entropy  lr_auc 0.30445306570647873 Best Threshold=2.035510540008545, G-Mean=0.6417340333224094, TPR=0.6520524017467249, FPR=0.3684210526315789\n",
      "m entropy\n",
      "metric entropy\n",
      "entropy  lr_auc 0.3265507082317427 Best Threshold=2.1055169105529785, G-Mean=0.6212086745044112, TPR=0.6452861952861952, FPR=0.4019704433497537\n",
      "   Exit_Name  ID_Inputs  OOD_Inputs  Test_Accuracy Threshold  Accepted ID  Accepted OOD  Accepted_Correct  Accepted_ID_Ratio  Acceptance_Accuracy\n",
      "0     exit_1      10000       10000         0.3698   3.31907         4672          3396              2157           0.579078             0.267353\n",
      "1     exit_2       5328        6604         0.4275   2.03551         1355          1294               747           0.511514             0.281993\n",
      "2  Main_exit       3973        5310         0.4060        NA         3973          5310              1096           0.427987             0.118065\n",
      "Overall accuracy ID 0.4\n",
      "0.9389474238469999\n",
      "====================================================================================================\n",
      "metric:  uncert threshold:  gmean\n",
      "m uncert\n",
      "metric uncert\n",
      "uncert  lr_auc 0.36980712038843855 Best Threshold=0.4974953532218933, G-Mean=0.5912218594921966, TPR=0.5926689939701681, FPR=0.4102217414818821\n",
      "m uncert\n",
      "metric uncert\n",
      "uncert  lr_auc 0.442750958911106 Best Threshold=0.48277419805526733, G-Mean=0.5553393077433748, TPR=0.5973799126637555, FPR=0.48374269005847953\n",
      "m uncert\n",
      "metric uncert\n",
      "uncert  lr_auc 0.44516750012439665 Best Threshold=0.4912783205509186, G-Mean=0.5439176362137249, TPR=0.5303030303030303, FPR=0.4421182266009852\n",
      "   Exit_Name  ID_Inputs  OOD_Inputs  Test_Accuracy Threshold  Accepted ID  Accepted OOD  Accepted_Correct  Accepted_ID_Ratio  Acceptance_Accuracy\n",
      "0     exit_1      10000       10000         0.3698  0.497495         4766          3517              2187           0.575395             0.264035\n",
      "1     exit_2       5234        6483         0.4275  0.482774         1648          1916               643           0.462402             0.180415\n",
      "2  Main_exit       3586        4567         0.4060        NA         3586          4567              1095           0.439838             0.134306\n",
      "Overall accuracy ID 0.3925\n",
      "0.9064753497254999\n",
      "====================================================================================================\n",
      "metric:  calibration threshold:  gmean\n",
      "m calibration\n",
      "metric calibration\n",
      "calibration  lr_auc 0.6488713095793672 Best Threshold=0.11122027784585953, G-Mean=0.6083652886908809, TPR=0.6281773931855057, FPR=0.41082196128213266\n",
      "m calibration\n",
      "metric calibration\n",
      "calibration  lr_auc 0.6994951862917846 Best Threshold=0.5022947192192078, G-Mean=0.6447056253390406, TPR=0.6229239766081871, FPR=0.3327510917030568\n",
      "m calibration\n",
      "metric calibration\n",
      "calibration  lr_auc 0.6873718714235956 Best Threshold=0.4611385464668274, G-Mean=0.6311117059371906, TPR=0.583743842364532, FPR=0.31767676767676767\n",
      "   Exit_Name  ID_Inputs  OOD_Inputs  Test_Accuracy Threshold  Accepted ID  Accepted OOD  Accepted_Correct  Accepted_ID_Ratio  Acceptance_Accuracy\n",
      "0     exit_1      10000       10000         0.3698   0.11122         4912          3656              2323           0.573296             0.271125\n",
      "1     exit_2       5088        6344         0.4275  0.502295         1426          1511               750           0.485529             0.255363\n",
      "2  Main_exit       3662        4833         0.4060        NA         3662          4833               982           0.431077             0.115597\n",
      "Overall accuracy ID 0.4055\n",
      "0.9013479928554\n",
      "====================================================================================================\n"
     ]
    }
   ],
   "source": [
    "for metric in [\"entropy\", \"uncert\", \"calibration\"]:\n",
    "    infer_result_OOD(output_branchy_ID, output_branchy_OOD, [metric], threshold='gmean', flops=flops)\n",
    "    print(\"=\"*100)"
   ]
  },
  {
   "cell_type": "markdown",
   "id": "5d9e68b4-d4e0-4e97-9336-dec9dba0244d",
   "metadata": {},
   "source": [
    "### 5. Save the model\n"
   ]
  },
  {
   "cell_type": "code",
   "execution_count": 17,
   "id": "59863952-aa58-4dfa-8f93-4690ec31a2e3",
   "metadata": {},
   "outputs": [],
   "source": [
    "branchy_model.save(BRANCHY_PATH)"
   ]
  },
  {
   "cell_type": "markdown",
   "id": "50adbbb3-1294-470b-b8d6-e884c5bfdaa6",
   "metadata": {},
   "source": [
    "## BrevisNet Model\n",
    "Now that we've established a baseline using the branchynet model, the next step is to build and evaluate the BrevisNet version.\n",
    "This model will use a different loss function, enable the growth hyperparameter, and use \"energy\" as the evaluation value.\n",
    "\n",
    "\n"
   ]
  },
  {
   "cell_type": "markdown",
   "id": "471e1456-967b-4318-827d-93895951954d",
   "metadata": {},
   "source": [
    "### Build the model\n"
   ]
  },
  {
   "cell_type": "code",
   "execution_count": 18,
   "id": "17c29356-479a-4d7b-adee-ee36c136b099",
   "metadata": {},
   "outputs": [
    {
     "name": "stdout",
     "output_type": "stream",
     "text": [
      "Matching Branchpoint by id number\n",
      "Matching Branchpoint by name\n",
      "add Branch to branch point  max_pooling2d\n",
      "add Branch to branch point  max_pooling2d_1\n",
      "Tensor(\"conv2d_input:0\", shape=(None, 224, 224, 3), dtype=float32)\n",
      "[<tf.Tensor 'dense_2/Identity:0' shape=(None, 10) dtype=float32>, <tf.Tensor 'branch_exit/Identity:0' shape=(None, 10) dtype=float32>, <tf.Tensor 'branch_exit_1/Identity:0' shape=(None, 10) dtype=float32>]\n",
      "Freezing Main Layers and setting branch layers training to true\n"
     ]
    }
   ],
   "source": [
    "tf.keras.backend.clear_session()\n",
    "if _DETERMINISTIC:\n",
    "    reset_seeds()\n",
    "### setup hyperparameter growth controls.\n",
    "    ## always start growth >= 1 to allow the model at least one epoch to stabilise with just the basic loss.\n",
    "growth_callback = growth_update(annealing_rate = 60, start_t = 0.,max_t = 1, starting_epoch =1, branch_names=[\"branch_exit_accuracy\",\"branch_exit_1_accuracy\"])\n",
    "earlyStop = tf.keras.callbacks.EarlyStopping(monitor=\"val_accuracy\",patience=4,restore_best_weights=True)\n",
    "\n",
    "### Loss functions \n",
    "branch_loss = Brevis_loss_final(growth_callback)  ### the brevisnet loss function.\n",
    "trunk_loss = keras.losses.CategoricalCrossentropy(from_logits=False) ### the standard loss function for the main exit\n",
    "# CE_loss = keras.losses.CategoricalCrossentropy(from_logits=True)\n",
    "\n",
    "### Build the Model\n",
    "brevis_model = brevis.BranchModel(name=BASEMODEL_PATH, custom_objects={})\n",
    "brevis_model = brevis.branches.branch.add_branches(brevis_model, \n",
    "                                            [lambda *args, **kwargs: branch_conv2d(*args, depths = [128, 512], **kwargs),\n",
    "                                            lambda *args, **kwargs: branch_conv2d(*args, depths = [128, 512], **kwargs)],\n",
    "                                           branchPoints =  [\"max_pooling2d\",\"max_pooling2d_1\"],\n",
    "                                            target_input=False,loop=False,num_outputs=N_CLASSES)\n",
    "              \n",
    "### Enable the training of the branches\n",
    "brevis_model.setFrozenTraining(True)\n",
    "\n",
    "### Compile the model. Provide either a single loss or an individual loss for each exit.\n",
    "brevis_model.compile(loss=[trunk_loss,branch_loss,branch_loss], \n",
    "                # optimizer=tf.keras.optimizers.Adam(learning_rate=0.001,  beta_1=0.99,  beta_2=0.999,),\n",
    "                optimizer=tf.optimizers.SGD(learning_rate=0.01, momentum=0.9),\n",
    "                metrics=['accuracy'])"
   ]
  },
  {
   "cell_type": "markdown",
   "id": "ed4a6fd8-b5ea-412e-bd29-a4d25f586393",
   "metadata": {},
   "source": [
    "## Train the model and its newly added branches"
   ]
  },
  {
   "cell_type": "code",
   "execution_count": 19,
   "id": "1a11d336-a835-46a5-8444-05a06b77bde7",
   "metadata": {},
   "outputs": [
    {
     "name": "stdout",
     "output_type": "stream",
     "text": [
      "1407/1407 [==============================] - 49s 35ms/step - loss: 3.3297 - dense_2_loss: 1.9574 - branch_exit_loss: 0.6610 - branch_exit_1_loss: 0.7114 - dense_2_accuracy: 0.3672 - branch_exit_accuracy: 0.4786 - branch_exit_1_accuracy: 0.4248 - val_loss: 2.9257 - val_dense_2_loss: 1.7437 - val_branch_exit_loss: 0.5748 - val_branch_exit_1_loss: 0.6071 - val_dense_2_accuracy: 0.3922 - val_branch_exit_accuracy: 0.5666 - val_branch_exit_1_accuracy: 0.5348\n"
     ]
    },
    {
     "data": {
      "text/plain": [
       "<tensorflow.python.keras.callbacks.History at 0x7f86f7909550>"
      ]
     },
     "execution_count": 19,
     "metadata": {},
     "output_type": "execute_result"
    }
   ],
   "source": [
    "earlystop1 = tf.keras.callbacks.EarlyStopping(monitor='val_branch_exit_accuracy', min_delta=0.0001, patience=5, verbose=1, mode='auto',restore_best_weights=True)\n",
    "earlystop2 = tf.keras.callbacks.EarlyStopping(monitor='val_branch_exit_1_accuracy', min_delta=0.0001, patience=5, verbose=1, mode='auto',restore_best_weights=True)\n",
    "brevis_model.fit(train_ds, epochs = 1, validation_data=validation_ds, callbacks=[earlystop1, earlystop2])"
   ]
  },
  {
   "cell_type": "code",
   "execution_count": 20,
   "id": "fa588250-6103-4781-ba77-c89801233ad6",
   "metadata": {},
   "outputs": [
    {
     "name": "stdout",
     "output_type": "stream",
     "text": [
      "313/313 [==============================] - 6s 19ms/step - loss: 2.9173 - dense_2_loss: 1.7249 - branch_exit_loss: 0.5787 - branch_exit_1_loss: 0.6137 - dense_2_accuracy: 0.4043 - branch_exit_accuracy: 0.5610 - branch_exit_1_accuracy: 0.5283\n"
     ]
    },
    {
     "data": {
      "text/plain": [
       "[2.91733455657959,\n",
       " 1.7248915433883667,\n",
       " 0.5787474513053894,\n",
       " 0.6136962175369263,\n",
       " 0.4043000042438507,\n",
       " 0.5609999895095825,\n",
       " 0.5282999873161316]"
      ]
     },
     "execution_count": 20,
     "metadata": {},
     "output_type": "execute_result"
    }
   ],
   "source": [
    "brevis_model.evaluate(test_ds)\n"
   ]
  },
  {
   "cell_type": "markdown",
   "id": "982461ea-89e2-4f10-951c-4bb187a54f1b",
   "metadata": {},
   "source": [
    "## Evaluate BranchyNet Results\n",
    "Next follow the below steps to evaluate the trained model to determine efficency improvement."
   ]
  },
  {
   "cell_type": "markdown",
   "id": "57728b1b-47c0-44bf-852c-a34916a92e36",
   "metadata": {},
   "source": [
    "### 1. Cacluate Model Flops\n",
    "This calculator uses the inbuilt Tensorflow operation measurement and estimates the flop usage for each classfication exit.\n",
    "Early exits are included in the calculation of later exits to represent the cost of evaluating at the earlier branch and then the output being rejected."
   ]
  },
  {
   "cell_type": "code",
   "execution_count": 21,
   "id": "3adcbd77-6fd0-420a-a507-96496b00a5c0",
   "metadata": {
    "scrolled": true,
    "tags": []
   },
   "outputs": [
    {
     "name": "stderr",
     "output_type": "stream",
     "text": [
      "2022-12-01 08:29:03.386634: I tensorflow/core/grappler/devices.cc:55] Number of eligible GPUs (core count >= 8, compute capability >= 0.0): 1\n",
      "2022-12-01 08:29:03.386746: I tensorflow/core/grappler/clusters/single_machine.cc:356] Starting new session\n",
      "2022-12-01 08:29:03.387604: I tensorflow/core/common_runtime/gpu/gpu_device.cc:1561] Found device 0 with properties: \n",
      "pciBusID: 0000:09:00.0 name: GeForce RTX 2080 Ti computeCapability: 7.5\n",
      "coreClock: 1.62GHz coreCount: 68 deviceMemorySize: 10.76GiB deviceMemoryBandwidth: 573.69GiB/s\n",
      "2022-12-01 08:29:03.387653: I tensorflow/stream_executor/platform/default/dso_loader.cc:44] Successfully opened dynamic library libcudart.so.10.1\n",
      "2022-12-01 08:29:03.387664: I tensorflow/stream_executor/platform/default/dso_loader.cc:44] Successfully opened dynamic library libcublas.so.10\n",
      "2022-12-01 08:29:03.387674: I tensorflow/stream_executor/platform/default/dso_loader.cc:44] Successfully opened dynamic library libcufft.so.10\n",
      "2022-12-01 08:29:03.387683: I tensorflow/stream_executor/platform/default/dso_loader.cc:44] Successfully opened dynamic library libcurand.so.10\n",
      "2022-12-01 08:29:03.387692: I tensorflow/stream_executor/platform/default/dso_loader.cc:44] Successfully opened dynamic library libcusolver.so.10\n",
      "2022-12-01 08:29:03.387700: I tensorflow/stream_executor/platform/default/dso_loader.cc:44] Successfully opened dynamic library libcusparse.so.10\n",
      "2022-12-01 08:29:03.387709: I tensorflow/stream_executor/platform/default/dso_loader.cc:44] Successfully opened dynamic library libcudnn.so.7\n",
      "2022-12-01 08:29:03.388667: I tensorflow/core/common_runtime/gpu/gpu_device.cc:1703] Adding visible gpu devices: 0\n",
      "2022-12-01 08:29:03.388694: I tensorflow/core/common_runtime/gpu/gpu_device.cc:1102] Device interconnect StreamExecutor with strength 1 edge matrix:\n",
      "2022-12-01 08:29:03.388698: I tensorflow/core/common_runtime/gpu/gpu_device.cc:1108]      0 \n",
      "2022-12-01 08:29:03.388702: I tensorflow/core/common_runtime/gpu/gpu_device.cc:1121] 0:   N \n",
      "2022-12-01 08:29:03.389665: I tensorflow/core/common_runtime/gpu/gpu_device.cc:1247] Created TensorFlow device (/job:localhost/replica:0/task:0/device:GPU:0 with 10059 MB memory) -> physical GPU (device: 0, name: GeForce RTX 2080 Ti, pci bus id: 0000:09:00.0, compute capability: 7.5)\n",
      "2022-12-01 08:29:03.393766: I tensorflow/core/grappler/optimizers/meta_optimizer.cc:797] Optimization results for grappler item: graph_to_optimize\n",
      "2022-12-01 08:29:03.393790: I tensorflow/core/grappler/optimizers/meta_optimizer.cc:799]   function_optimizer: function_optimizer did nothing. time = 0.002ms.\n",
      "2022-12-01 08:29:03.393797: I tensorflow/core/grappler/optimizers/meta_optimizer.cc:799]   function_optimizer: function_optimizer did nothing. time = 0.001ms.\n"
     ]
    },
    {
     "name": "stdout",
     "output_type": "stream",
     "text": [
      "Parsing Inputs...\n",
      "\n",
      "=========================Options=============================\n",
      "-max_depth                  10000\n",
      "-min_bytes                  0\n",
      "-min_peak_bytes             0\n",
      "-min_residual_bytes         0\n",
      "-min_output_bytes           0\n",
      "-min_micros                 0\n",
      "-min_accelerator_micros     0\n",
      "-min_cpu_micros             0\n",
      "-min_params                 0\n",
      "-min_float_ops              1\n",
      "-min_occurrence             0\n",
      "-step                       -1\n",
      "-order_by                   float_ops\n",
      "-account_type_regexes       .*\n",
      "-start_name_regexes         .*\n",
      "-trim_name_regexes          \n",
      "-show_name_regexes          .*\n",
      "-hide_name_regexes          \n",
      "-account_displayed_op_only  true\n",
      "-select                     float_ops\n",
      "-output                     stdout:\n",
      "\n",
      "==================Model Analysis Report======================\n",
      "\n",
      "Doc:\n",
      "scope: The nodes in the model graph are organized by their names, which is hierarchical like filesystem.\n",
      "flops: Number of float operations. Note: Please read the implementation for the math behind it.\n",
      "\n",
      "Profile:\n",
      "node name | # float_ops\n",
      "_TFProfRoot (--/290.60m flops)\n",
      "  model/conv2d/Conv2D (203.23m/203.23m flops)\n",
      "  model/branch_dense/MatMul (26.21m/26.21m flops)\n",
      "  model/branch_conv2d_1/Conv2D (22.15m/22.15m flops)\n",
      "  model/branch_conv2d_2/Conv2D (18.87m/18.87m flops)\n",
      "  model/branch_conv2d/Conv2D (16.61m/16.61m flops)\n",
      "  model/branch_dense_1/MatMul (1.05m/1.05m flops)\n",
      "  model/max_pooling2d/MaxPool (584.06k/584.06k flops)\n",
      "  model/batch_normalization/FusedBatchNormV3 (560.45k/560.45k flops)\n",
      "  model/conv2d/BiasAdd (279.94k/279.94k flops)\n",
      "  model/branch_batchnorm/FusedBatchNormV3 (173.82k/173.82k flops)\n",
      "  model/branch_batchnorm_1/FusedBatchNormV3 (173.82k/173.82k flops)\n",
      "  model/branch_maxpool/MaxPool (165.89k/165.89k flops)\n",
      "  model/branch_batchnorm_2/FusedBatchNormV3 (150.53k/150.53k flops)\n",
      "  model/branch_maxpool_1/MaxPool (115.20k/115.20k flops)\n",
      "  model/branch_conv2d_1/BiasAdd (86.53k/86.53k flops)\n",
      "  model/branch_conv2d/BiasAdd (86.53k/86.53k flops)\n",
      "  model/branch_conv2d_2/BiasAdd (73.73k/73.73k flops)\n",
      "  model/branch_exit/MatMul (10.24k/10.24k flops)\n",
      "  model/branch_dense/BiasAdd (1.02k/1.02k flops)\n",
      "  model/branch_dense_1/BiasAdd (512/512 flops)\n",
      "  model/branch_exit/BiasAdd (10/10 flops)\n",
      "\n",
      "======================End of Report==========================\n"
     ]
    },
    {
     "name": "stderr",
     "output_type": "stream",
     "text": [
      "2022-12-01 08:29:04.364244: I tensorflow/core/grappler/devices.cc:55] Number of eligible GPUs (core count >= 8, compute capability >= 0.0): 1\n",
      "2022-12-01 08:29:04.364347: I tensorflow/core/grappler/clusters/single_machine.cc:356] Starting new session\n",
      "2022-12-01 08:29:04.365519: I tensorflow/core/common_runtime/gpu/gpu_device.cc:1561] Found device 0 with properties: \n",
      "pciBusID: 0000:09:00.0 name: GeForce RTX 2080 Ti computeCapability: 7.5\n",
      "coreClock: 1.62GHz coreCount: 68 deviceMemorySize: 10.76GiB deviceMemoryBandwidth: 573.69GiB/s\n",
      "2022-12-01 08:29:04.365577: I tensorflow/stream_executor/platform/default/dso_loader.cc:44] Successfully opened dynamic library libcudart.so.10.1\n",
      "2022-12-01 08:29:04.365590: I tensorflow/stream_executor/platform/default/dso_loader.cc:44] Successfully opened dynamic library libcublas.so.10\n",
      "2022-12-01 08:29:04.365601: I tensorflow/stream_executor/platform/default/dso_loader.cc:44] Successfully opened dynamic library libcufft.so.10\n",
      "2022-12-01 08:29:04.365611: I tensorflow/stream_executor/platform/default/dso_loader.cc:44] Successfully opened dynamic library libcurand.so.10\n",
      "2022-12-01 08:29:04.365621: I tensorflow/stream_executor/platform/default/dso_loader.cc:44] Successfully opened dynamic library libcusolver.so.10\n",
      "2022-12-01 08:29:04.365631: I tensorflow/stream_executor/platform/default/dso_loader.cc:44] Successfully opened dynamic library libcusparse.so.10\n",
      "2022-12-01 08:29:04.365642: I tensorflow/stream_executor/platform/default/dso_loader.cc:44] Successfully opened dynamic library libcudnn.so.7\n",
      "2022-12-01 08:29:04.366562: I tensorflow/core/common_runtime/gpu/gpu_device.cc:1703] Adding visible gpu devices: 0\n",
      "2022-12-01 08:29:04.366588: I tensorflow/core/common_runtime/gpu/gpu_device.cc:1102] Device interconnect StreamExecutor with strength 1 edge matrix:\n",
      "2022-12-01 08:29:04.366592: I tensorflow/core/common_runtime/gpu/gpu_device.cc:1108]      0 \n",
      "2022-12-01 08:29:04.366596: I tensorflow/core/common_runtime/gpu/gpu_device.cc:1121] 0:   N \n",
      "2022-12-01 08:29:04.367547: I tensorflow/core/common_runtime/gpu/gpu_device.cc:1247] Created TensorFlow device (/job:localhost/replica:0/task:0/device:GPU:0 with 10059 MB memory) -> physical GPU (device: 0, name: GeForce RTX 2080 Ti, pci bus id: 0000:09:00.0, compute capability: 7.5)\n",
      "2022-12-01 08:29:04.370892: I tensorflow/core/grappler/optimizers/meta_optimizer.cc:797] Optimization results for grappler item: graph_to_optimize\n",
      "2022-12-01 08:29:04.370910: I tensorflow/core/grappler/optimizers/meta_optimizer.cc:799]   function_optimizer: function_optimizer did nothing. time = 0.002ms.\n",
      "2022-12-01 08:29:04.370913: I tensorflow/core/grappler/optimizers/meta_optimizer.cc:799]   function_optimizer: function_optimizer did nothing. time = 0ms.\n"
     ]
    },
    {
     "name": "stdout",
     "output_type": "stream",
     "text": [
      "Parsing Inputs...\n",
      "\n",
      "=========================Options=============================\n",
      "-max_depth                  10000\n",
      "-min_bytes                  0\n",
      "-min_peak_bytes             0\n",
      "-min_residual_bytes         0\n",
      "-min_output_bytes           0\n",
      "-min_micros                 0\n",
      "-min_accelerator_micros     0\n",
      "-min_cpu_micros             0\n",
      "-min_params                 0\n",
      "-min_float_ops              1\n",
      "-min_occurrence             0\n",
      "-step                       -1\n",
      "-order_by                   float_ops\n",
      "-account_type_regexes       .*\n",
      "-start_name_regexes         .*\n",
      "-trim_name_regexes          \n",
      "-show_name_regexes          .*\n",
      "-hide_name_regexes          \n",
      "-account_displayed_op_only  true\n",
      "-select                     float_ops\n",
      "-output                     stdout:\n",
      "\n",
      "==================Model Analysis Report======================\n",
      "\n",
      "Doc:\n",
      "scope: The nodes in the model graph are organized by their names, which is hierarchical like filesystem.\n",
      "flops: Number of float operations. Note: Please read the implementation for the math behind it.\n",
      "\n",
      "Profile:\n",
      "node name | # float_ops\n",
      "_TFProfRoot (--/1.15b flops)\n",
      "  model_1/conv2d_1/Conv2D (830.67m/830.67m flops)\n",
      "  model_1/conv2d/Conv2D (203.23m/203.23m flops)\n",
      "  model_1/branch_dense/MatMul (26.21m/26.21m flops)\n",
      "  model_1/branch_conv2d_1/Conv2D (22.15m/22.15m flops)\n",
      "  model_1/branch_conv2d_2/Conv2D (18.87m/18.87m flops)\n",
      "  model_1/branch_conv2d/Conv2D (16.61m/16.61m flops)\n",
      "  model_1/branch_conv2d_3/Conv2D (9.44m/9.44m flops)\n",
      "  model_1/branch_conv2d_4/Conv2D (4.72m/4.72m flops)\n",
      "  model_1/branch_dense_2/MatMul (4.19m/4.19m flops)\n",
      "  model_1/branch_conv2d_5/Conv2D (3.28m/3.28m flops)\n",
      "  model_1/branch_dense_3/MatMul (1.05m/1.05m flops)\n",
      "  model_1/branch_dense_1/MatMul (1.05m/1.05m flops)\n",
      "  model_1/max_pooling2d/MaxPool (584.06k/584.06k flops)\n",
      "  model_1/batch_normalization/FusedBatchNormV3 (560.45k/560.45k flops)\n",
      "  model_1/batch_normalization_1/FusedBatchNormV3 (347.65k/347.65k flops)\n",
      "  model_1/max_pooling2d_1/MaxPool (331.78k/331.78k flops)\n",
      "  model_1/conv2d/BiasAdd (279.94k/279.94k flops)\n",
      "  model_1/branch_batchnorm/FusedBatchNormV3 (173.82k/173.82k flops)\n",
      "  model_1/branch_batchnorm_1/FusedBatchNormV3 (173.82k/173.82k flops)\n",
      "  model_1/conv2d_1/BiasAdd (173.06k/173.06k flops)\n",
      "  model_1/branch_maxpool/MaxPool (165.89k/165.89k flops)\n",
      "  model_1/branch_batchnorm_2/FusedBatchNormV3 (150.53k/150.53k flops)\n",
      "  model_1/branch_maxpool_1/MaxPool (115.20k/115.20k flops)\n",
      "  model_1/branch_conv2d/BiasAdd (86.53k/86.53k flops)\n",
      "  model_1/branch_conv2d_1/BiasAdd (86.53k/86.53k flops)\n",
      "  model_1/branch_conv2d_2/BiasAdd (73.73k/73.73k flops)\n",
      "  model_1/branch_batchnorm_4/FusedBatchNormV3 (37.63k/37.63k flops)\n",
      "  model_1/branch_batchnorm_3/FusedBatchNormV3 (37.63k/37.63k flops)\n",
      "  model_1/branch_maxpool_2/MaxPool (28.80k/28.80k flops)\n",
      "  model_1/branch_batchnorm_5/FusedBatchNormV3 (28.67k/28.67k flops)\n",
      "  model_1/branch_maxpool_3/MaxPool (18.43k/18.43k flops)\n",
      "  model_1/branch_conv2d_4/BiasAdd (18.43k/18.43k flops)\n",
      "  model_1/branch_conv2d_3/BiasAdd (18.43k/18.43k flops)\n",
      "  model_1/branch_conv2d_5/BiasAdd (12.80k/12.80k flops)\n",
      "  model_1/branch_exit_1/MatMul (10.24k/10.24k flops)\n",
      "  model_1/branch_exit/MatMul (10.24k/10.24k flops)\n",
      "  model_1/branch_dense_2/BiasAdd (1.02k/1.02k flops)\n",
      "  model_1/branch_dense/BiasAdd (1.02k/1.02k flops)\n",
      "  model_1/branch_dense_3/BiasAdd (512/512 flops)\n",
      "  model_1/branch_dense_1/BiasAdd (512/512 flops)\n",
      "  model_1/branch_exit_1/BiasAdd (10/10 flops)\n",
      "  model_1/branch_exit/BiasAdd (10/10 flops)\n",
      "\n",
      "======================End of Report==========================\n"
     ]
    },
    {
     "name": "stderr",
     "output_type": "stream",
     "text": [
      "2022-12-01 08:29:05.579680: I tensorflow/core/grappler/devices.cc:55] Number of eligible GPUs (core count >= 8, compute capability >= 0.0): 1\n",
      "2022-12-01 08:29:05.579808: I tensorflow/core/grappler/clusters/single_machine.cc:356] Starting new session\n",
      "2022-12-01 08:29:05.580653: I tensorflow/core/common_runtime/gpu/gpu_device.cc:1561] Found device 0 with properties: \n",
      "pciBusID: 0000:09:00.0 name: GeForce RTX 2080 Ti computeCapability: 7.5\n",
      "coreClock: 1.62GHz coreCount: 68 deviceMemorySize: 10.76GiB deviceMemoryBandwidth: 573.69GiB/s\n",
      "2022-12-01 08:29:05.580702: I tensorflow/stream_executor/platform/default/dso_loader.cc:44] Successfully opened dynamic library libcudart.so.10.1\n",
      "2022-12-01 08:29:05.580713: I tensorflow/stream_executor/platform/default/dso_loader.cc:44] Successfully opened dynamic library libcublas.so.10\n",
      "2022-12-01 08:29:05.580722: I tensorflow/stream_executor/platform/default/dso_loader.cc:44] Successfully opened dynamic library libcufft.so.10\n",
      "2022-12-01 08:29:05.580731: I tensorflow/stream_executor/platform/default/dso_loader.cc:44] Successfully opened dynamic library libcurand.so.10\n",
      "2022-12-01 08:29:05.580739: I tensorflow/stream_executor/platform/default/dso_loader.cc:44] Successfully opened dynamic library libcusolver.so.10\n",
      "2022-12-01 08:29:05.580748: I tensorflow/stream_executor/platform/default/dso_loader.cc:44] Successfully opened dynamic library libcusparse.so.10\n",
      "2022-12-01 08:29:05.580756: I tensorflow/stream_executor/platform/default/dso_loader.cc:44] Successfully opened dynamic library libcudnn.so.7\n",
      "2022-12-01 08:29:05.581680: I tensorflow/core/common_runtime/gpu/gpu_device.cc:1703] Adding visible gpu devices: 0\n",
      "2022-12-01 08:29:05.581707: I tensorflow/core/common_runtime/gpu/gpu_device.cc:1102] Device interconnect StreamExecutor with strength 1 edge matrix:\n",
      "2022-12-01 08:29:05.581711: I tensorflow/core/common_runtime/gpu/gpu_device.cc:1108]      0 \n",
      "2022-12-01 08:29:05.581714: I tensorflow/core/common_runtime/gpu/gpu_device.cc:1121] 0:   N \n",
      "2022-12-01 08:29:05.582667: I tensorflow/core/common_runtime/gpu/gpu_device.cc:1247] Created TensorFlow device (/job:localhost/replica:0/task:0/device:GPU:0 with 10059 MB memory) -> physical GPU (device: 0, name: GeForce RTX 2080 Ti, pci bus id: 0000:09:00.0, compute capability: 7.5)\n",
      "2022-12-01 08:29:05.586680: I tensorflow/core/grappler/optimizers/meta_optimizer.cc:797] Optimization results for grappler item: graph_to_optimize\n",
      "2022-12-01 08:29:05.586698: I tensorflow/core/grappler/optimizers/meta_optimizer.cc:799]   function_optimizer: function_optimizer did nothing. time = 0.002ms.\n",
      "2022-12-01 08:29:05.586701: I tensorflow/core/grappler/optimizers/meta_optimizer.cc:799]   function_optimizer: function_optimizer did nothing. time = 0ms.\n"
     ]
    },
    {
     "name": "stdout",
     "output_type": "stream",
     "text": [
      "Parsing Inputs...\n",
      "\n",
      "=========================Options=============================\n",
      "-max_depth                  10000\n",
      "-min_bytes                  0\n",
      "-min_peak_bytes             0\n",
      "-min_residual_bytes         0\n",
      "-min_output_bytes           0\n",
      "-min_micros                 0\n",
      "-min_accelerator_micros     0\n",
      "-min_cpu_micros             0\n",
      "-min_params                 0\n",
      "-min_float_ops              1\n",
      "-min_occurrence             0\n",
      "-step                       -1\n",
      "-order_by                   float_ops\n",
      "-account_type_regexes       .*\n",
      "-start_name_regexes         .*\n",
      "-trim_name_regexes          \n",
      "-show_name_regexes          .*\n",
      "-hide_name_regexes          \n",
      "-account_displayed_op_only  true\n",
      "-select                     float_ops\n",
      "-output                     stdout:\n",
      "\n",
      "==================Model Analysis Report======================\n",
      "\n",
      "Doc:\n",
      "scope: The nodes in the model graph are organized by their names, which is hierarchical like filesystem.\n",
      "flops: Number of float operations. Note: Please read the implementation for the math behind it.\n",
      "\n",
      "Profile:\n",
      "node name | # float_ops\n",
      "_TFProfRoot (--/1.56b flops)\n",
      "  model_2/conv2d_1/Conv2D (830.67m/830.67m flops)\n",
      "  model_2/conv2d_2/Conv2D (254.80m/254.80m flops)\n",
      "  model_2/conv2d/Conv2D (203.23m/203.23m flops)\n",
      "  model_2/dense/MatMul (52.43m/52.43m flops)\n",
      "  model_2/conv2d_3/Conv2D (42.47m/42.47m flops)\n",
      "  model_2/dense_1/MatMul (33.55m/33.55m flops)\n",
      "  model_2/conv2d_4/Conv2D (28.31m/28.31m flops)\n",
      "  model_2/branch_dense/MatMul (26.21m/26.21m flops)\n",
      "  model_2/branch_conv2d_1/Conv2D (22.15m/22.15m flops)\n",
      "  model_2/branch_conv2d_2/Conv2D (18.87m/18.87m flops)\n",
      "  model_2/branch_conv2d/Conv2D (16.61m/16.61m flops)\n",
      "  model_2/branch_conv2d_3/Conv2D (9.44m/9.44m flops)\n",
      "  model_2/branch_conv2d_4/Conv2D (4.72m/4.72m flops)\n",
      "  model_2/branch_dense_2/MatMul (4.19m/4.19m flops)\n",
      "  model_2/branch_conv2d_5/Conv2D (3.28m/3.28m flops)\n",
      "  model_2/branch_dense_1/MatMul (1.05m/1.05m flops)\n",
      "  model_2/branch_dense_3/MatMul (1.05m/1.05m flops)\n",
      "  model_2/max_pooling2d/MaxPool (584.06k/584.06k flops)\n",
      "  model_2/batch_normalization/FusedBatchNormV3 (560.45k/560.45k flops)\n",
      "  model_2/batch_normalization_1/FusedBatchNormV3 (347.65k/347.65k flops)\n",
      "  model_2/max_pooling2d_1/MaxPool (331.78k/331.78k flops)\n",
      "  model_2/conv2d/BiasAdd (279.94k/279.94k flops)\n",
      "  model_2/branch_batchnorm_1/FusedBatchNormV3 (173.82k/173.82k flops)\n",
      "  model_2/branch_batchnorm/FusedBatchNormV3 (173.82k/173.82k flops)\n",
      "  model_2/conv2d_1/BiasAdd (173.06k/173.06k flops)\n",
      "  model_2/branch_maxpool/MaxPool (165.89k/165.89k flops)\n",
      "  model_2/branch_batchnorm_2/FusedBatchNormV3 (150.53k/150.53k flops)\n",
      "  model_2/branch_maxpool_1/MaxPool (115.20k/115.20k flops)\n",
      "  model_2/batch_normalization_3/FusedBatchNormV3 (112.90k/112.90k flops)\n",
      "  model_2/batch_normalization_2/FusedBatchNormV3 (112.90k/112.90k flops)\n",
      "  model_2/branch_conv2d_1/BiasAdd (86.53k/86.53k flops)\n",
      "  model_2/branch_conv2d/BiasAdd (86.53k/86.53k flops)\n",
      "  model_2/dense_2/MatMul (81.92k/81.92k flops)\n",
      "  model_2/batch_normalization_4/FusedBatchNormV3 (75.26k/75.26k flops)\n",
      "  model_2/branch_conv2d_2/BiasAdd (73.73k/73.73k flops)\n",
      "  model_2/max_pooling2d_2/MaxPool (57.60k/57.60k flops)\n",
      "  model_2/conv2d_3/BiasAdd (55.30k/55.30k flops)\n",
      "  model_2/conv2d_2/BiasAdd (55.30k/55.30k flops)\n",
      "  model_2/branch_batchnorm_3/FusedBatchNormV3 (37.63k/37.63k flops)\n",
      "  model_2/branch_batchnorm_4/FusedBatchNormV3 (37.63k/37.63k flops)\n",
      "  model_2/conv2d_4/BiasAdd (36.86k/36.86k flops)\n",
      "  model_2/branch_maxpool_2/MaxPool (28.80k/28.80k flops)\n",
      "  model_2/branch_batchnorm_5/FusedBatchNormV3 (28.67k/28.67k flops)\n",
      "  model_2/branch_maxpool_3/MaxPool (18.43k/18.43k flops)\n",
      "  model_2/branch_conv2d_3/BiasAdd (18.43k/18.43k flops)\n",
      "  model_2/branch_conv2d_4/BiasAdd (18.43k/18.43k flops)\n",
      "  model_2/branch_conv2d_5/BiasAdd (12.80k/12.80k flops)\n",
      "  model_2/branch_exit_1/MatMul (10.24k/10.24k flops)\n",
      "  model_2/branch_exit/MatMul (10.24k/10.24k flops)\n",
      "  model_2/dense/BiasAdd (4.10k/4.10k flops)\n",
      "  model_2/dense_1/BiasAdd (4.10k/4.10k flops)\n",
      "  model_2/branch_dense/BiasAdd (1.02k/1.02k flops)\n",
      "  model_2/branch_dense_2/BiasAdd (1.02k/1.02k flops)\n",
      "  model_2/branch_dense_1/BiasAdd (512/512 flops)\n",
      "  model_2/branch_dense_3/BiasAdd (512/512 flops)\n",
      "  model_2/dense_2/Softmax (50/50 flops)\n",
      "  model_2/branch_exit/BiasAdd (10/10 flops)\n",
      "  model_2/dense_2/BiasAdd (10/10 flops)\n",
      "  model_2/branch_exit_1/BiasAdd (10/10 flops)\n",
      "\n",
      "======================End of Report==========================\n"
     ]
    }
   ],
   "source": [
    "flops = get_branched_flops(brevis_model, [\"branch_exit\", \"branch_exit_1\", \"dense_2\"])"
   ]
  },
  {
   "cell_type": "code",
   "execution_count": 22,
   "id": "5e4c89f5-bb30-4e5b-afe9-8fe8b9145929",
   "metadata": {},
   "outputs": [
    {
     "data": {
      "text/plain": [
       "[0.290597706, 1.14500706, 1.557169424]"
      ]
     },
     "execution_count": 22,
     "metadata": {},
     "output_type": "execute_result"
    }
   ],
   "source": [
    "flops"
   ]
  },
  {
   "cell_type": "markdown",
   "id": "94995e35-4cf5-4563-96ce-0139b8597459",
   "metadata": {},
   "source": [
    "### 3. Get Test set predictions"
   ]
  },
  {
   "cell_type": "code",
   "execution_count": 23,
   "id": "6c4bb546-6e94-4e53-ac33-f6451bd0b3c5",
   "metadata": {},
   "outputs": [
    {
     "name": "stderr",
     "output_type": "stream",
     "text": [
      "Processing branch 1: 10000it [00:25, 392.33it/s]\n",
      "Processing branch 2: 10000it [00:26, 376.76it/s]\n",
      "Processing branch 3: 10000it [00:27, 369.90it/s]\n",
      "Processing branch 1: 10000it [00:27, 361.53it/s]\n",
      "Processing branch 2: 10000it [00:27, 357.91it/s]\n",
      "Processing branch 3: 10000it [00:27, 363.46it/s]\n"
     ]
    }
   ],
   "source": [
    "output_brevis_ID= getPredictions_Energy(brevis_model, test_ds,stopping_point=None)\n",
    "output_brevis_OOD = getPredictions_Energy(brevis_model, test_ds100,stopping_point=None)"
   ]
  },
  {
   "cell_type": "markdown",
   "id": "938161c9-4ede-4e7b-b0fb-5fa9cf2f60bd",
   "metadata": {},
   "source": [
    "### 4. Evaluate Test Results\n"
   ]
  },
  {
   "cell_type": "code",
   "execution_count": 24,
   "id": "c8bae5af-95a2-4899-b947-f5af4af09663",
   "metadata": {},
   "outputs": [
    {
     "name": "stdout",
     "output_type": "stream",
     "text": [
      "metric:  energy threshold:  gmean\n",
      "m energy\n",
      "metric energy\n",
      "energy  lr_auc 0.31811623752068324 Best Threshold=-2.410576820373535, G-Mean=0.6383267107010017, TPR=0.673493369145543, FPR=0.3950037101162503\n",
      "m energy\n",
      "metric energy\n",
      "energy  lr_auc 0.2752480520060582 Best Threshold=-54.452335357666016, G-Mean=0.6669990624131235, TPR=0.6835990888382688, FPR=0.34919786096256683\n",
      "m energy\n",
      "metric energy\n",
      "energy  lr_auc 0.3061492675475446 Best Threshold=-58.750389099121094, G-Mean=0.6436317523526641, TPR=0.6809412762348951, FPR=0.39163354154836266\n",
      "   Exit_Name  ID_Inputs  OOD_Inputs  Test_Accuracy Threshold  Accepted ID  Accepted OOD  Accepted_Correct  Accepted_ID_Ratio  Acceptance_Accuracy\n",
      "0     exit_1      10000       10000         0.4043  -2.41058         4392          3309              2446           0.570316             0.317621\n",
      "1     exit_2       5608        6691         0.5610  -54.4523         2136          1455              1448           0.594820             0.403230\n",
      "2  Main_exit       3472        5236         0.5283        NA         3472          5236              1157           0.398714             0.132866\n",
      "Overall accuracy ID 0.5051\n",
      "0.9954722315279\n",
      "====================================================================================================\n"
     ]
    }
   ],
   "source": [
    "for metric in [\"energy\"]:\n",
    "    infer_result_OOD(output_brevis_ID, output_brevis_OOD, [metric], threshold='gmean', flops=flops)\n",
    "    print(\"=\"*100)"
   ]
  },
  {
   "cell_type": "markdown",
   "id": "650f71b1-6989-4a95-827a-599e91dd75bf",
   "metadata": {},
   "source": [
    "### 5. Save the model"
   ]
  },
  {
   "cell_type": "code",
   "execution_count": 25,
   "id": "c83c63fb-ad0a-4bd2-b5a3-53172ff7d8d8",
   "metadata": {},
   "outputs": [],
   "source": [
    "brevis_model.save(BREVIS_PATH)"
   ]
  },
  {
   "cell_type": "code",
   "execution_count": null,
   "id": "57dac39a-1459-4ed6-ad0f-a30aff89c3dd",
   "metadata": {},
   "outputs": [],
   "source": []
  }
 ],
 "metadata": {
  "kernelspec": {
   "display_name": "tf2.2",
   "language": "python",
   "name": "tf2.2"
  },
  "language_info": {
   "codemirror_mode": {
    "name": "ipython",
    "version": 3
   },
   "file_extension": ".py",
   "mimetype": "text/x-python",
   "name": "python",
   "nbconvert_exporter": "python",
   "pygments_lexer": "ipython3",
   "version": "3.7.0"
  }
 },
 "nbformat": 4,
 "nbformat_minor": 5
}
